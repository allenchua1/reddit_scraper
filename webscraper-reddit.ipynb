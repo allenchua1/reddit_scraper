{
 "cells": [
  {
   "cell_type": "markdown",
   "metadata": {},
   "source": [
    "## Scraping Reddit and posting to Pandas\n",
    "inspiration for this notebook:\n",
    "https://recycledrobot.co.uk/words/?web-scraping\n",
    "\n",
    "quick tutorial: how to build a table with plotly.\n",
    "https://plotly.com/python/table/"
   ]
  },
  {
   "cell_type": "code",
   "execution_count": 193,
   "metadata": {},
   "outputs": [
    {
     "data": {
      "application/vnd.plotly.v1+json": {
       "config": {
        "plotlyServerURL": "https://plot.ly"
       },
       "data": [
        {
         "cells": {
          "values": [
           [
            100,
            90,
            80,
            90
           ],
           [
            95,
            85,
            75,
            95
           ]
          ]
         },
         "header": {
          "values": [
           "A Scores",
           "B Scores"
          ]
         },
         "type": "table"
        }
       ],
       "layout": {
        "template": {
         "data": {
          "bar": [
           {
            "error_x": {
             "color": "#2a3f5f"
            },
            "error_y": {
             "color": "#2a3f5f"
            },
            "marker": {
             "line": {
              "color": "#E5ECF6",
              "width": 0.5
             }
            },
            "type": "bar"
           }
          ],
          "barpolar": [
           {
            "marker": {
             "line": {
              "color": "#E5ECF6",
              "width": 0.5
             }
            },
            "type": "barpolar"
           }
          ],
          "carpet": [
           {
            "aaxis": {
             "endlinecolor": "#2a3f5f",
             "gridcolor": "white",
             "linecolor": "white",
             "minorgridcolor": "white",
             "startlinecolor": "#2a3f5f"
            },
            "baxis": {
             "endlinecolor": "#2a3f5f",
             "gridcolor": "white",
             "linecolor": "white",
             "minorgridcolor": "white",
             "startlinecolor": "#2a3f5f"
            },
            "type": "carpet"
           }
          ],
          "choropleth": [
           {
            "colorbar": {
             "outlinewidth": 0,
             "ticks": ""
            },
            "type": "choropleth"
           }
          ],
          "contour": [
           {
            "colorbar": {
             "outlinewidth": 0,
             "ticks": ""
            },
            "colorscale": [
             [
              0,
              "#0d0887"
             ],
             [
              0.1111111111111111,
              "#46039f"
             ],
             [
              0.2222222222222222,
              "#7201a8"
             ],
             [
              0.3333333333333333,
              "#9c179e"
             ],
             [
              0.4444444444444444,
              "#bd3786"
             ],
             [
              0.5555555555555556,
              "#d8576b"
             ],
             [
              0.6666666666666666,
              "#ed7953"
             ],
             [
              0.7777777777777778,
              "#fb9f3a"
             ],
             [
              0.8888888888888888,
              "#fdca26"
             ],
             [
              1,
              "#f0f921"
             ]
            ],
            "type": "contour"
           }
          ],
          "contourcarpet": [
           {
            "colorbar": {
             "outlinewidth": 0,
             "ticks": ""
            },
            "type": "contourcarpet"
           }
          ],
          "heatmap": [
           {
            "colorbar": {
             "outlinewidth": 0,
             "ticks": ""
            },
            "colorscale": [
             [
              0,
              "#0d0887"
             ],
             [
              0.1111111111111111,
              "#46039f"
             ],
             [
              0.2222222222222222,
              "#7201a8"
             ],
             [
              0.3333333333333333,
              "#9c179e"
             ],
             [
              0.4444444444444444,
              "#bd3786"
             ],
             [
              0.5555555555555556,
              "#d8576b"
             ],
             [
              0.6666666666666666,
              "#ed7953"
             ],
             [
              0.7777777777777778,
              "#fb9f3a"
             ],
             [
              0.8888888888888888,
              "#fdca26"
             ],
             [
              1,
              "#f0f921"
             ]
            ],
            "type": "heatmap"
           }
          ],
          "heatmapgl": [
           {
            "colorbar": {
             "outlinewidth": 0,
             "ticks": ""
            },
            "colorscale": [
             [
              0,
              "#0d0887"
             ],
             [
              0.1111111111111111,
              "#46039f"
             ],
             [
              0.2222222222222222,
              "#7201a8"
             ],
             [
              0.3333333333333333,
              "#9c179e"
             ],
             [
              0.4444444444444444,
              "#bd3786"
             ],
             [
              0.5555555555555556,
              "#d8576b"
             ],
             [
              0.6666666666666666,
              "#ed7953"
             ],
             [
              0.7777777777777778,
              "#fb9f3a"
             ],
             [
              0.8888888888888888,
              "#fdca26"
             ],
             [
              1,
              "#f0f921"
             ]
            ],
            "type": "heatmapgl"
           }
          ],
          "histogram": [
           {
            "marker": {
             "colorbar": {
              "outlinewidth": 0,
              "ticks": ""
             }
            },
            "type": "histogram"
           }
          ],
          "histogram2d": [
           {
            "colorbar": {
             "outlinewidth": 0,
             "ticks": ""
            },
            "colorscale": [
             [
              0,
              "#0d0887"
             ],
             [
              0.1111111111111111,
              "#46039f"
             ],
             [
              0.2222222222222222,
              "#7201a8"
             ],
             [
              0.3333333333333333,
              "#9c179e"
             ],
             [
              0.4444444444444444,
              "#bd3786"
             ],
             [
              0.5555555555555556,
              "#d8576b"
             ],
             [
              0.6666666666666666,
              "#ed7953"
             ],
             [
              0.7777777777777778,
              "#fb9f3a"
             ],
             [
              0.8888888888888888,
              "#fdca26"
             ],
             [
              1,
              "#f0f921"
             ]
            ],
            "type": "histogram2d"
           }
          ],
          "histogram2dcontour": [
           {
            "colorbar": {
             "outlinewidth": 0,
             "ticks": ""
            },
            "colorscale": [
             [
              0,
              "#0d0887"
             ],
             [
              0.1111111111111111,
              "#46039f"
             ],
             [
              0.2222222222222222,
              "#7201a8"
             ],
             [
              0.3333333333333333,
              "#9c179e"
             ],
             [
              0.4444444444444444,
              "#bd3786"
             ],
             [
              0.5555555555555556,
              "#d8576b"
             ],
             [
              0.6666666666666666,
              "#ed7953"
             ],
             [
              0.7777777777777778,
              "#fb9f3a"
             ],
             [
              0.8888888888888888,
              "#fdca26"
             ],
             [
              1,
              "#f0f921"
             ]
            ],
            "type": "histogram2dcontour"
           }
          ],
          "mesh3d": [
           {
            "colorbar": {
             "outlinewidth": 0,
             "ticks": ""
            },
            "type": "mesh3d"
           }
          ],
          "parcoords": [
           {
            "line": {
             "colorbar": {
              "outlinewidth": 0,
              "ticks": ""
             }
            },
            "type": "parcoords"
           }
          ],
          "pie": [
           {
            "automargin": true,
            "type": "pie"
           }
          ],
          "scatter": [
           {
            "marker": {
             "colorbar": {
              "outlinewidth": 0,
              "ticks": ""
             }
            },
            "type": "scatter"
           }
          ],
          "scatter3d": [
           {
            "line": {
             "colorbar": {
              "outlinewidth": 0,
              "ticks": ""
             }
            },
            "marker": {
             "colorbar": {
              "outlinewidth": 0,
              "ticks": ""
             }
            },
            "type": "scatter3d"
           }
          ],
          "scattercarpet": [
           {
            "marker": {
             "colorbar": {
              "outlinewidth": 0,
              "ticks": ""
             }
            },
            "type": "scattercarpet"
           }
          ],
          "scattergeo": [
           {
            "marker": {
             "colorbar": {
              "outlinewidth": 0,
              "ticks": ""
             }
            },
            "type": "scattergeo"
           }
          ],
          "scattergl": [
           {
            "marker": {
             "colorbar": {
              "outlinewidth": 0,
              "ticks": ""
             }
            },
            "type": "scattergl"
           }
          ],
          "scattermapbox": [
           {
            "marker": {
             "colorbar": {
              "outlinewidth": 0,
              "ticks": ""
             }
            },
            "type": "scattermapbox"
           }
          ],
          "scatterpolar": [
           {
            "marker": {
             "colorbar": {
              "outlinewidth": 0,
              "ticks": ""
             }
            },
            "type": "scatterpolar"
           }
          ],
          "scatterpolargl": [
           {
            "marker": {
             "colorbar": {
              "outlinewidth": 0,
              "ticks": ""
             }
            },
            "type": "scatterpolargl"
           }
          ],
          "scatterternary": [
           {
            "marker": {
             "colorbar": {
              "outlinewidth": 0,
              "ticks": ""
             }
            },
            "type": "scatterternary"
           }
          ],
          "surface": [
           {
            "colorbar": {
             "outlinewidth": 0,
             "ticks": ""
            },
            "colorscale": [
             [
              0,
              "#0d0887"
             ],
             [
              0.1111111111111111,
              "#46039f"
             ],
             [
              0.2222222222222222,
              "#7201a8"
             ],
             [
              0.3333333333333333,
              "#9c179e"
             ],
             [
              0.4444444444444444,
              "#bd3786"
             ],
             [
              0.5555555555555556,
              "#d8576b"
             ],
             [
              0.6666666666666666,
              "#ed7953"
             ],
             [
              0.7777777777777778,
              "#fb9f3a"
             ],
             [
              0.8888888888888888,
              "#fdca26"
             ],
             [
              1,
              "#f0f921"
             ]
            ],
            "type": "surface"
           }
          ],
          "table": [
           {
            "cells": {
             "fill": {
              "color": "#EBF0F8"
             },
             "line": {
              "color": "white"
             }
            },
            "header": {
             "fill": {
              "color": "#C8D4E3"
             },
             "line": {
              "color": "white"
             }
            },
            "type": "table"
           }
          ]
         },
         "layout": {
          "annotationdefaults": {
           "arrowcolor": "#2a3f5f",
           "arrowhead": 0,
           "arrowwidth": 1
          },
          "autotypenumbers": "strict",
          "coloraxis": {
           "colorbar": {
            "outlinewidth": 0,
            "ticks": ""
           }
          },
          "colorscale": {
           "diverging": [
            [
             0,
             "#8e0152"
            ],
            [
             0.1,
             "#c51b7d"
            ],
            [
             0.2,
             "#de77ae"
            ],
            [
             0.3,
             "#f1b6da"
            ],
            [
             0.4,
             "#fde0ef"
            ],
            [
             0.5,
             "#f7f7f7"
            ],
            [
             0.6,
             "#e6f5d0"
            ],
            [
             0.7,
             "#b8e186"
            ],
            [
             0.8,
             "#7fbc41"
            ],
            [
             0.9,
             "#4d9221"
            ],
            [
             1,
             "#276419"
            ]
           ],
           "sequential": [
            [
             0,
             "#0d0887"
            ],
            [
             0.1111111111111111,
             "#46039f"
            ],
            [
             0.2222222222222222,
             "#7201a8"
            ],
            [
             0.3333333333333333,
             "#9c179e"
            ],
            [
             0.4444444444444444,
             "#bd3786"
            ],
            [
             0.5555555555555556,
             "#d8576b"
            ],
            [
             0.6666666666666666,
             "#ed7953"
            ],
            [
             0.7777777777777778,
             "#fb9f3a"
            ],
            [
             0.8888888888888888,
             "#fdca26"
            ],
            [
             1,
             "#f0f921"
            ]
           ],
           "sequentialminus": [
            [
             0,
             "#0d0887"
            ],
            [
             0.1111111111111111,
             "#46039f"
            ],
            [
             0.2222222222222222,
             "#7201a8"
            ],
            [
             0.3333333333333333,
             "#9c179e"
            ],
            [
             0.4444444444444444,
             "#bd3786"
            ],
            [
             0.5555555555555556,
             "#d8576b"
            ],
            [
             0.6666666666666666,
             "#ed7953"
            ],
            [
             0.7777777777777778,
             "#fb9f3a"
            ],
            [
             0.8888888888888888,
             "#fdca26"
            ],
            [
             1,
             "#f0f921"
            ]
           ]
          },
          "colorway": [
           "#636efa",
           "#EF553B",
           "#00cc96",
           "#ab63fa",
           "#FFA15A",
           "#19d3f3",
           "#FF6692",
           "#B6E880",
           "#FF97FF",
           "#FECB52"
          ],
          "font": {
           "color": "#2a3f5f"
          },
          "geo": {
           "bgcolor": "white",
           "lakecolor": "white",
           "landcolor": "#E5ECF6",
           "showlakes": true,
           "showland": true,
           "subunitcolor": "white"
          },
          "hoverlabel": {
           "align": "left"
          },
          "hovermode": "closest",
          "mapbox": {
           "style": "light"
          },
          "paper_bgcolor": "white",
          "plot_bgcolor": "#E5ECF6",
          "polar": {
           "angularaxis": {
            "gridcolor": "white",
            "linecolor": "white",
            "ticks": ""
           },
           "bgcolor": "#E5ECF6",
           "radialaxis": {
            "gridcolor": "white",
            "linecolor": "white",
            "ticks": ""
           }
          },
          "scene": {
           "xaxis": {
            "backgroundcolor": "#E5ECF6",
            "gridcolor": "white",
            "gridwidth": 2,
            "linecolor": "white",
            "showbackground": true,
            "ticks": "",
            "zerolinecolor": "white"
           },
           "yaxis": {
            "backgroundcolor": "#E5ECF6",
            "gridcolor": "white",
            "gridwidth": 2,
            "linecolor": "white",
            "showbackground": true,
            "ticks": "",
            "zerolinecolor": "white"
           },
           "zaxis": {
            "backgroundcolor": "#E5ECF6",
            "gridcolor": "white",
            "gridwidth": 2,
            "linecolor": "white",
            "showbackground": true,
            "ticks": "",
            "zerolinecolor": "white"
           }
          },
          "shapedefaults": {
           "line": {
            "color": "#2a3f5f"
           }
          },
          "ternary": {
           "aaxis": {
            "gridcolor": "white",
            "linecolor": "white",
            "ticks": ""
           },
           "baxis": {
            "gridcolor": "white",
            "linecolor": "white",
            "ticks": ""
           },
           "bgcolor": "#E5ECF6",
           "caxis": {
            "gridcolor": "white",
            "linecolor": "white",
            "ticks": ""
           }
          },
          "title": {
           "x": 0.05
          },
          "xaxis": {
           "automargin": true,
           "gridcolor": "white",
           "linecolor": "white",
           "ticks": "",
           "title": {
            "standoff": 15
           },
           "zerolinecolor": "white",
           "zerolinewidth": 2
          },
          "yaxis": {
           "automargin": true,
           "gridcolor": "white",
           "linecolor": "white",
           "ticks": "",
           "title": {
            "standoff": 15
           },
           "zerolinecolor": "white",
           "zerolinewidth": 2
          }
         }
        }
       }
      },
      "text/html": [
       "<div>                            <div id=\"6334cb33-9d58-48b1-980c-608e84c103e5\" class=\"plotly-graph-div\" style=\"height:525px; width:100%;\"></div>            <script type=\"text/javascript\">                require([\"plotly\"], function(Plotly) {                    window.PLOTLYENV=window.PLOTLYENV || {};                                    if (document.getElementById(\"6334cb33-9d58-48b1-980c-608e84c103e5\")) {                    Plotly.newPlot(                        \"6334cb33-9d58-48b1-980c-608e84c103e5\",                        [{\"cells\": {\"values\": [[100, 90, 80, 90], [95, 85, 75, 95]]}, \"header\": {\"values\": [\"A Scores\", \"B Scores\"]}, \"type\": \"table\"}],                        {\"template\": {\"data\": {\"bar\": [{\"error_x\": {\"color\": \"#2a3f5f\"}, \"error_y\": {\"color\": \"#2a3f5f\"}, \"marker\": {\"line\": {\"color\": \"#E5ECF6\", \"width\": 0.5}}, \"type\": \"bar\"}], \"barpolar\": [{\"marker\": {\"line\": {\"color\": \"#E5ECF6\", \"width\": 0.5}}, \"type\": \"barpolar\"}], \"carpet\": [{\"aaxis\": {\"endlinecolor\": \"#2a3f5f\", \"gridcolor\": \"white\", \"linecolor\": \"white\", \"minorgridcolor\": \"white\", \"startlinecolor\": \"#2a3f5f\"}, \"baxis\": {\"endlinecolor\": \"#2a3f5f\", \"gridcolor\": \"white\", \"linecolor\": \"white\", \"minorgridcolor\": \"white\", \"startlinecolor\": \"#2a3f5f\"}, \"type\": \"carpet\"}], \"choropleth\": [{\"colorbar\": {\"outlinewidth\": 0, \"ticks\": \"\"}, \"type\": \"choropleth\"}], \"contour\": [{\"colorbar\": {\"outlinewidth\": 0, \"ticks\": \"\"}, \"colorscale\": [[0.0, \"#0d0887\"], [0.1111111111111111, \"#46039f\"], [0.2222222222222222, \"#7201a8\"], [0.3333333333333333, \"#9c179e\"], [0.4444444444444444, \"#bd3786\"], [0.5555555555555556, \"#d8576b\"], [0.6666666666666666, \"#ed7953\"], [0.7777777777777778, \"#fb9f3a\"], [0.8888888888888888, \"#fdca26\"], [1.0, \"#f0f921\"]], \"type\": \"contour\"}], \"contourcarpet\": [{\"colorbar\": {\"outlinewidth\": 0, \"ticks\": \"\"}, \"type\": \"contourcarpet\"}], \"heatmap\": [{\"colorbar\": {\"outlinewidth\": 0, \"ticks\": \"\"}, \"colorscale\": [[0.0, \"#0d0887\"], [0.1111111111111111, \"#46039f\"], [0.2222222222222222, \"#7201a8\"], [0.3333333333333333, \"#9c179e\"], [0.4444444444444444, \"#bd3786\"], [0.5555555555555556, \"#d8576b\"], [0.6666666666666666, \"#ed7953\"], [0.7777777777777778, \"#fb9f3a\"], [0.8888888888888888, \"#fdca26\"], [1.0, \"#f0f921\"]], \"type\": \"heatmap\"}], \"heatmapgl\": [{\"colorbar\": {\"outlinewidth\": 0, \"ticks\": \"\"}, \"colorscale\": [[0.0, \"#0d0887\"], [0.1111111111111111, \"#46039f\"], [0.2222222222222222, \"#7201a8\"], [0.3333333333333333, \"#9c179e\"], [0.4444444444444444, \"#bd3786\"], [0.5555555555555556, \"#d8576b\"], [0.6666666666666666, \"#ed7953\"], [0.7777777777777778, \"#fb9f3a\"], [0.8888888888888888, \"#fdca26\"], [1.0, \"#f0f921\"]], \"type\": \"heatmapgl\"}], \"histogram\": [{\"marker\": {\"colorbar\": {\"outlinewidth\": 0, \"ticks\": \"\"}}, \"type\": \"histogram\"}], \"histogram2d\": [{\"colorbar\": {\"outlinewidth\": 0, \"ticks\": \"\"}, \"colorscale\": [[0.0, \"#0d0887\"], [0.1111111111111111, \"#46039f\"], [0.2222222222222222, \"#7201a8\"], [0.3333333333333333, \"#9c179e\"], [0.4444444444444444, \"#bd3786\"], [0.5555555555555556, \"#d8576b\"], [0.6666666666666666, \"#ed7953\"], [0.7777777777777778, \"#fb9f3a\"], [0.8888888888888888, \"#fdca26\"], [1.0, \"#f0f921\"]], \"type\": \"histogram2d\"}], \"histogram2dcontour\": [{\"colorbar\": {\"outlinewidth\": 0, \"ticks\": \"\"}, \"colorscale\": [[0.0, \"#0d0887\"], [0.1111111111111111, \"#46039f\"], [0.2222222222222222, \"#7201a8\"], [0.3333333333333333, \"#9c179e\"], [0.4444444444444444, \"#bd3786\"], [0.5555555555555556, \"#d8576b\"], [0.6666666666666666, \"#ed7953\"], [0.7777777777777778, \"#fb9f3a\"], [0.8888888888888888, \"#fdca26\"], [1.0, \"#f0f921\"]], \"type\": \"histogram2dcontour\"}], \"mesh3d\": [{\"colorbar\": {\"outlinewidth\": 0, \"ticks\": \"\"}, \"type\": \"mesh3d\"}], \"parcoords\": [{\"line\": {\"colorbar\": {\"outlinewidth\": 0, \"ticks\": \"\"}}, \"type\": \"parcoords\"}], \"pie\": [{\"automargin\": true, \"type\": \"pie\"}], \"scatter\": [{\"marker\": {\"colorbar\": {\"outlinewidth\": 0, \"ticks\": \"\"}}, \"type\": \"scatter\"}], \"scatter3d\": [{\"line\": {\"colorbar\": {\"outlinewidth\": 0, \"ticks\": \"\"}}, \"marker\": {\"colorbar\": {\"outlinewidth\": 0, \"ticks\": \"\"}}, \"type\": \"scatter3d\"}], \"scattercarpet\": [{\"marker\": {\"colorbar\": {\"outlinewidth\": 0, \"ticks\": \"\"}}, \"type\": \"scattercarpet\"}], \"scattergeo\": [{\"marker\": {\"colorbar\": {\"outlinewidth\": 0, \"ticks\": \"\"}}, \"type\": \"scattergeo\"}], \"scattergl\": [{\"marker\": {\"colorbar\": {\"outlinewidth\": 0, \"ticks\": \"\"}}, \"type\": \"scattergl\"}], \"scattermapbox\": [{\"marker\": {\"colorbar\": {\"outlinewidth\": 0, \"ticks\": \"\"}}, \"type\": \"scattermapbox\"}], \"scatterpolar\": [{\"marker\": {\"colorbar\": {\"outlinewidth\": 0, \"ticks\": \"\"}}, \"type\": \"scatterpolar\"}], \"scatterpolargl\": [{\"marker\": {\"colorbar\": {\"outlinewidth\": 0, \"ticks\": \"\"}}, \"type\": \"scatterpolargl\"}], \"scatterternary\": [{\"marker\": {\"colorbar\": {\"outlinewidth\": 0, \"ticks\": \"\"}}, \"type\": \"scatterternary\"}], \"surface\": [{\"colorbar\": {\"outlinewidth\": 0, \"ticks\": \"\"}, \"colorscale\": [[0.0, \"#0d0887\"], [0.1111111111111111, \"#46039f\"], [0.2222222222222222, \"#7201a8\"], [0.3333333333333333, \"#9c179e\"], [0.4444444444444444, \"#bd3786\"], [0.5555555555555556, \"#d8576b\"], [0.6666666666666666, \"#ed7953\"], [0.7777777777777778, \"#fb9f3a\"], [0.8888888888888888, \"#fdca26\"], [1.0, \"#f0f921\"]], \"type\": \"surface\"}], \"table\": [{\"cells\": {\"fill\": {\"color\": \"#EBF0F8\"}, \"line\": {\"color\": \"white\"}}, \"header\": {\"fill\": {\"color\": \"#C8D4E3\"}, \"line\": {\"color\": \"white\"}}, \"type\": \"table\"}]}, \"layout\": {\"annotationdefaults\": {\"arrowcolor\": \"#2a3f5f\", \"arrowhead\": 0, \"arrowwidth\": 1}, \"autotypenumbers\": \"strict\", \"coloraxis\": {\"colorbar\": {\"outlinewidth\": 0, \"ticks\": \"\"}}, \"colorscale\": {\"diverging\": [[0, \"#8e0152\"], [0.1, \"#c51b7d\"], [0.2, \"#de77ae\"], [0.3, \"#f1b6da\"], [0.4, \"#fde0ef\"], [0.5, \"#f7f7f7\"], [0.6, \"#e6f5d0\"], [0.7, \"#b8e186\"], [0.8, \"#7fbc41\"], [0.9, \"#4d9221\"], [1, \"#276419\"]], \"sequential\": [[0.0, \"#0d0887\"], [0.1111111111111111, \"#46039f\"], [0.2222222222222222, \"#7201a8\"], [0.3333333333333333, \"#9c179e\"], [0.4444444444444444, \"#bd3786\"], [0.5555555555555556, \"#d8576b\"], [0.6666666666666666, \"#ed7953\"], [0.7777777777777778, \"#fb9f3a\"], [0.8888888888888888, \"#fdca26\"], [1.0, \"#f0f921\"]], \"sequentialminus\": [[0.0, \"#0d0887\"], [0.1111111111111111, \"#46039f\"], [0.2222222222222222, \"#7201a8\"], [0.3333333333333333, \"#9c179e\"], [0.4444444444444444, \"#bd3786\"], [0.5555555555555556, \"#d8576b\"], [0.6666666666666666, \"#ed7953\"], [0.7777777777777778, \"#fb9f3a\"], [0.8888888888888888, \"#fdca26\"], [1.0, \"#f0f921\"]]}, \"colorway\": [\"#636efa\", \"#EF553B\", \"#00cc96\", \"#ab63fa\", \"#FFA15A\", \"#19d3f3\", \"#FF6692\", \"#B6E880\", \"#FF97FF\", \"#FECB52\"], \"font\": {\"color\": \"#2a3f5f\"}, \"geo\": {\"bgcolor\": \"white\", \"lakecolor\": \"white\", \"landcolor\": \"#E5ECF6\", \"showlakes\": true, \"showland\": true, \"subunitcolor\": \"white\"}, \"hoverlabel\": {\"align\": \"left\"}, \"hovermode\": \"closest\", \"mapbox\": {\"style\": \"light\"}, \"paper_bgcolor\": \"white\", \"plot_bgcolor\": \"#E5ECF6\", \"polar\": {\"angularaxis\": {\"gridcolor\": \"white\", \"linecolor\": \"white\", \"ticks\": \"\"}, \"bgcolor\": \"#E5ECF6\", \"radialaxis\": {\"gridcolor\": \"white\", \"linecolor\": \"white\", \"ticks\": \"\"}}, \"scene\": {\"xaxis\": {\"backgroundcolor\": \"#E5ECF6\", \"gridcolor\": \"white\", \"gridwidth\": 2, \"linecolor\": \"white\", \"showbackground\": true, \"ticks\": \"\", \"zerolinecolor\": \"white\"}, \"yaxis\": {\"backgroundcolor\": \"#E5ECF6\", \"gridcolor\": \"white\", \"gridwidth\": 2, \"linecolor\": \"white\", \"showbackground\": true, \"ticks\": \"\", \"zerolinecolor\": \"white\"}, \"zaxis\": {\"backgroundcolor\": \"#E5ECF6\", \"gridcolor\": \"white\", \"gridwidth\": 2, \"linecolor\": \"white\", \"showbackground\": true, \"ticks\": \"\", \"zerolinecolor\": \"white\"}}, \"shapedefaults\": {\"line\": {\"color\": \"#2a3f5f\"}}, \"ternary\": {\"aaxis\": {\"gridcolor\": \"white\", \"linecolor\": \"white\", \"ticks\": \"\"}, \"baxis\": {\"gridcolor\": \"white\", \"linecolor\": \"white\", \"ticks\": \"\"}, \"bgcolor\": \"#E5ECF6\", \"caxis\": {\"gridcolor\": \"white\", \"linecolor\": \"white\", \"ticks\": \"\"}}, \"title\": {\"x\": 0.05}, \"xaxis\": {\"automargin\": true, \"gridcolor\": \"white\", \"linecolor\": \"white\", \"ticks\": \"\", \"title\": {\"standoff\": 15}, \"zerolinecolor\": \"white\", \"zerolinewidth\": 2}, \"yaxis\": {\"automargin\": true, \"gridcolor\": \"white\", \"linecolor\": \"white\", \"ticks\": \"\", \"title\": {\"standoff\": 15}, \"zerolinecolor\": \"white\", \"zerolinewidth\": 2}}}},                        {\"responsive\": true}                    ).then(function(){\n",
       "                            \n",
       "var gd = document.getElementById('6334cb33-9d58-48b1-980c-608e84c103e5');\n",
       "var x = new MutationObserver(function (mutations, observer) {{\n",
       "        var display = window.getComputedStyle(gd).display;\n",
       "        if (!display || display === 'none') {{\n",
       "            console.log([gd, 'removed!']);\n",
       "            Plotly.purge(gd);\n",
       "            observer.disconnect();\n",
       "        }}\n",
       "}});\n",
       "\n",
       "// Listen for the removal of the full notebook cells\n",
       "var notebookContainer = gd.closest('#notebook-container');\n",
       "if (notebookContainer) {{\n",
       "    x.observe(notebookContainer, {childList: true});\n",
       "}}\n",
       "\n",
       "// Listen for the clearing of the current output cell\n",
       "var outputEl = gd.closest('.output');\n",
       "if (outputEl) {{\n",
       "    x.observe(outputEl, {childList: true});\n",
       "}}\n",
       "\n",
       "                        })                };                });            </script>        </div>"
      ]
     },
     "metadata": {},
     "output_type": "display_data"
    }
   ],
   "source": [
    "\n",
    "import plotly.graph_objects as go\n",
    "\n",
    "data=go.Table(header=dict(values=['A Scores', 'B Scores']),\n",
    "                 cells=dict(values=[[100, 90, 80, 90], [95, 85, 75, 95]]))\n",
    "                     \n",
    "fig = go.Figure([data])\n",
    "fig"
   ]
  },
  {
   "cell_type": "code",
   "execution_count": 194,
   "metadata": {},
   "outputs": [],
   "source": [
    "import requests\n",
    "from bs4 import BeautifulSoup\n",
    "import pandas as pd\n",
    "from requests import get\n",
    "import urllib.request"
   ]
  },
  {
   "cell_type": "code",
   "execution_count": 198,
   "metadata": {},
   "outputs": [],
   "source": [
    "# define a scraper function\n",
    "def lovely_soup(url):\n",
    "    r = requests.get(url, headers = {'User-agent': 'practice_lesson'})\n",
    "    return BeautifulSoup(r.text, 'lxml')"
   ]
  },
  {
   "cell_type": "code",
   "execution_count": 199,
   "metadata": {},
   "outputs": [],
   "source": [
    "# apply the function to our reddit source\n",
    "url = 'https://old.reddit.com/r/AskReddit/'\n",
    "soup = lovely_soup(url)\n",
    "# note: you can also try this one\n",
    "# url = 'https://old.reddit.com/r/Showerthoughts?sort=top&t=week'"
   ]
  },
  {
   "cell_type": "code",
   "execution_count": 202,
   "metadata": {
    "scrolled": false
   },
   "outputs": [
    {
     "name": "stdout",
     "output_type": "stream",
     "text": [
      "https://old.reddit.com/r/AskReddit/comments/sa561l/would_you_stay_locked_inside_of_your_bathroom/\n",
      "https://old.reddit.com/r/AskReddit/comments/s9vvjf/what_legendary_reddit_event_does_every_reddittor/\n",
      "https://old.reddit.com/r/AskReddit/comments/sa6m3e/what_is_a_safety_tip_everyone_should_know_about/\n",
      "https://old.reddit.com/r/AskReddit/comments/s9oaa6/what_is_the_most_beautiful_song_you_have_ever/\n",
      "https://old.reddit.com/r/AskReddit/comments/s9qkm6/people_named_bruno_how_have_the_last_few_weeks/\n",
      "https://old.reddit.com/r/AskReddit/comments/s9p5cr/what_are_some_mysteries_that_should_have_been/\n",
      "https://old.reddit.com/r/AskReddit/comments/s9kfs6/parents_of_reddit_whose_children_have_dated_awful/\n",
      "https://old.reddit.com/r/AskReddit/comments/sa86vv/pet_owners_of_reddit_whats_the_quickest_youve/\n",
      "https://old.reddit.com/r/AskReddit/comments/sa3nra/those_of_you_who_are_always_running_15_minutes/\n",
      "https://old.reddit.com/r/AskReddit/comments/sa7cpc/people_above_the_age_of_30_what_should_a_20_yo/\n",
      "https://old.reddit.com/r/AskReddit/comments/s9flzw/if_the_news_headline_celebrity_outed_as_serial/\n",
      "https://old.reddit.com/r/AskReddit/comments/s9qb20/whats_a_movie_that_would_be_100_better_as_a/\n",
      "https://old.reddit.com/r/AskReddit/comments/saa5vv/whats_your_favorite_poverty_meal_that_you_still/\n",
      "https://old.reddit.com/r/AskReddit/comments/s9dp9x/whats_a_plot_twist_that_is_so_bad_it_ruins_the/\n",
      "https://old.reddit.com/r/AskReddit/comments/sa8w95/which_fictional_universe_has_the_most_wasted/\n",
      "https://old.reddit.com/r/AskReddit/comments/s9h0l5/what_is_a_phrase_or_saying_that_you_hate/\n",
      "https://old.reddit.com/r/AskReddit/comments/s980k9/what_is_an_extremely_common_thing_that_others_can/\n",
      "https://old.reddit.com/r/AskReddit/comments/sa6lmm/what_was_your_worst_subject/\n",
      "https://old.reddit.com/r/AskReddit/comments/sa8llb/whats_the_best_book_youve_read_in_the_past_12/\n",
      "https://old.reddit.com/r/AskReddit/comments/sa30ic/what_exists_only_because_humans_are_dumb/\n",
      "https://old.reddit.com/r/AskReddit/comments/sabzxa/whats_your_favorite_condiment/\n",
      "https://old.reddit.com/r/AskReddit/comments/sa9hrt/what_is_your_favourite_fictional_character/\n",
      "https://old.reddit.com/r/AskReddit/comments/sa5hcj/what_noise_is_pure_bliss_to_your_ears/\n",
      "https://old.reddit.com/r/AskReddit/comments/saauqn/how_did_you_find_out_youre_nearsighted_was_there/\n",
      "https://old.reddit.com/r/AskReddit/comments/sa4xdv/what_is_one_experience_you_think_no_human_should/\n"
     ]
    }
   ],
   "source": [
    "#soup.find_All('p', {'href': 'https'})\n",
    "#links = soup.find_all('a', {'class': 'bylink'})\n",
    "links = soup.find_all('a', 'comments', href=True)\n",
    "linkslist = []\n",
    "\n",
    "parser = 'html.parser'  # or 'lxml' (preferred) or 'html5lib', if installed\n",
    "resp = urllib.request.urlopen(\"https://old.reddit.com/r/AskReddit/\")\n",
    "soup = BeautifulSoup(resp, parser, from_encoding=resp.info().get_param('charset'))\n",
    "\n",
    "for link in links:\n",
    "    linkslist.append(link['href'])\n",
    "    print(link['href'])"
   ]
  },
  {
   "cell_type": "code",
   "execution_count": 225,
   "metadata": {},
   "outputs": [
    {
     "data": {
      "text/plain": [
       "['https://old.reddit.com/r/AskReddit/comments/sa561l/would_you_stay_locked_inside_of_your_bathroom/',\n",
       " 'https://old.reddit.com/r/AskReddit/comments/s9vvjf/what_legendary_reddit_event_does_every_reddittor/',\n",
       " 'https://old.reddit.com/r/AskReddit/comments/sa6m3e/what_is_a_safety_tip_everyone_should_know_about/',\n",
       " 'https://old.reddit.com/r/AskReddit/comments/s9oaa6/what_is_the_most_beautiful_song_you_have_ever/',\n",
       " 'https://old.reddit.com/r/AskReddit/comments/s9qkm6/people_named_bruno_how_have_the_last_few_weeks/',\n",
       " 'https://old.reddit.com/r/AskReddit/comments/s9p5cr/what_are_some_mysteries_that_should_have_been/',\n",
       " 'https://old.reddit.com/r/AskReddit/comments/s9kfs6/parents_of_reddit_whose_children_have_dated_awful/',\n",
       " 'https://old.reddit.com/r/AskReddit/comments/sa86vv/pet_owners_of_reddit_whats_the_quickest_youve/',\n",
       " 'https://old.reddit.com/r/AskReddit/comments/sa3nra/those_of_you_who_are_always_running_15_minutes/',\n",
       " 'https://old.reddit.com/r/AskReddit/comments/sa7cpc/people_above_the_age_of_30_what_should_a_20_yo/',\n",
       " 'https://old.reddit.com/r/AskReddit/comments/s9flzw/if_the_news_headline_celebrity_outed_as_serial/',\n",
       " 'https://old.reddit.com/r/AskReddit/comments/s9qb20/whats_a_movie_that_would_be_100_better_as_a/',\n",
       " 'https://old.reddit.com/r/AskReddit/comments/saa5vv/whats_your_favorite_poverty_meal_that_you_still/',\n",
       " 'https://old.reddit.com/r/AskReddit/comments/s9dp9x/whats_a_plot_twist_that_is_so_bad_it_ruins_the/',\n",
       " 'https://old.reddit.com/r/AskReddit/comments/sa8w95/which_fictional_universe_has_the_most_wasted/',\n",
       " 'https://old.reddit.com/r/AskReddit/comments/s9h0l5/what_is_a_phrase_or_saying_that_you_hate/',\n",
       " 'https://old.reddit.com/r/AskReddit/comments/s980k9/what_is_an_extremely_common_thing_that_others_can/',\n",
       " 'https://old.reddit.com/r/AskReddit/comments/sa6lmm/what_was_your_worst_subject/',\n",
       " 'https://old.reddit.com/r/AskReddit/comments/sa8llb/whats_the_best_book_youve_read_in_the_past_12/',\n",
       " 'https://old.reddit.com/r/AskReddit/comments/sa30ic/what_exists_only_because_humans_are_dumb/',\n",
       " 'https://old.reddit.com/r/AskReddit/comments/sabzxa/whats_your_favorite_condiment/',\n",
       " 'https://old.reddit.com/r/AskReddit/comments/sa9hrt/what_is_your_favourite_fictional_character/',\n",
       " 'https://old.reddit.com/r/AskReddit/comments/sa5hcj/what_noise_is_pure_bliss_to_your_ears/',\n",
       " 'https://old.reddit.com/r/AskReddit/comments/saauqn/how_did_you_find_out_youre_nearsighted_was_there/',\n",
       " 'https://old.reddit.com/r/AskReddit/comments/sa4xdv/what_is_one_experience_you_think_no_human_should/']"
      ]
     },
     "execution_count": 225,
     "metadata": {},
     "output_type": "execute_result"
    }
   ],
   "source": [
    "linkslist"
   ]
  },
  {
   "cell_type": "code",
   "execution_count": 211,
   "metadata": {
    "scrolled": true
   },
   "outputs": [
    {
     "data": {
      "text/html": [
       "<style type=\"text/css\">\n",
       "</style>\n",
       "<table id=\"T_bd0a3_\">\n",
       "  <thead>\n",
       "    <tr>\n",
       "      <th class=\"blank level0\" >&nbsp;</th>\n",
       "      <th class=\"col_heading level0 col0\" >0</th>\n",
       "    </tr>\n",
       "  </thead>\n",
       "  <tbody>\n",
       "    <tr>\n",
       "      <th id=\"T_bd0a3_level0_row0\" class=\"row_heading level0 row0\" >0</th>\n",
       "      <td id=\"T_bd0a3_row0_col0\" class=\"data row0 col0\" ><a href=\"https://old.reddit.com/r/AskReddit/comments/sa561l/would_you_stay_locked_inside_of_your_bathroom/\">https://old.reddit.com/r/AskReddit/comments/sa561l/would_you_stay_locked_inside_of_your_bathroom/</a></td>\n",
       "    </tr>\n",
       "    <tr>\n",
       "      <th id=\"T_bd0a3_level0_row1\" class=\"row_heading level0 row1\" >1</th>\n",
       "      <td id=\"T_bd0a3_row1_col0\" class=\"data row1 col0\" ><a href=\"https://old.reddit.com/r/AskReddit/comments/s9vvjf/what_legendary_reddit_event_does_every_reddittor/\">https://old.reddit.com/r/AskReddit/comments/s9vvjf/what_legendary_reddit_event_does_every_reddittor/</a></td>\n",
       "    </tr>\n",
       "    <tr>\n",
       "      <th id=\"T_bd0a3_level0_row2\" class=\"row_heading level0 row2\" >2</th>\n",
       "      <td id=\"T_bd0a3_row2_col0\" class=\"data row2 col0\" ><a href=\"https://old.reddit.com/r/AskReddit/comments/sa6m3e/what_is_a_safety_tip_everyone_should_know_about/\">https://old.reddit.com/r/AskReddit/comments/sa6m3e/what_is_a_safety_tip_everyone_should_know_about/</a></td>\n",
       "    </tr>\n",
       "    <tr>\n",
       "      <th id=\"T_bd0a3_level0_row3\" class=\"row_heading level0 row3\" >3</th>\n",
       "      <td id=\"T_bd0a3_row3_col0\" class=\"data row3 col0\" ><a href=\"https://old.reddit.com/r/AskReddit/comments/s9oaa6/what_is_the_most_beautiful_song_you_have_ever/\">https://old.reddit.com/r/AskReddit/comments/s9oaa6/what_is_the_most_beautiful_song_you_have_ever/</a></td>\n",
       "    </tr>\n",
       "    <tr>\n",
       "      <th id=\"T_bd0a3_level0_row4\" class=\"row_heading level0 row4\" >4</th>\n",
       "      <td id=\"T_bd0a3_row4_col0\" class=\"data row4 col0\" ><a href=\"https://old.reddit.com/r/AskReddit/comments/s9qkm6/people_named_bruno_how_have_the_last_few_weeks/\">https://old.reddit.com/r/AskReddit/comments/s9qkm6/people_named_bruno_how_have_the_last_few_weeks/</a></td>\n",
       "    </tr>\n",
       "    <tr>\n",
       "      <th id=\"T_bd0a3_level0_row5\" class=\"row_heading level0 row5\" >5</th>\n",
       "      <td id=\"T_bd0a3_row5_col0\" class=\"data row5 col0\" ><a href=\"https://old.reddit.com/r/AskReddit/comments/s9p5cr/what_are_some_mysteries_that_should_have_been/\">https://old.reddit.com/r/AskReddit/comments/s9p5cr/what_are_some_mysteries_that_should_have_been/</a></td>\n",
       "    </tr>\n",
       "    <tr>\n",
       "      <th id=\"T_bd0a3_level0_row6\" class=\"row_heading level0 row6\" >6</th>\n",
       "      <td id=\"T_bd0a3_row6_col0\" class=\"data row6 col0\" ><a href=\"https://old.reddit.com/r/AskReddit/comments/s9kfs6/parents_of_reddit_whose_children_have_dated_awful/\">https://old.reddit.com/r/AskReddit/comments/s9kfs6/parents_of_reddit_whose_children_have_dated_awful/</a></td>\n",
       "    </tr>\n",
       "    <tr>\n",
       "      <th id=\"T_bd0a3_level0_row7\" class=\"row_heading level0 row7\" >7</th>\n",
       "      <td id=\"T_bd0a3_row7_col0\" class=\"data row7 col0\" ><a href=\"https://old.reddit.com/r/AskReddit/comments/sa86vv/pet_owners_of_reddit_whats_the_quickest_youve/\">https://old.reddit.com/r/AskReddit/comments/sa86vv/pet_owners_of_reddit_whats_the_quickest_youve/</a></td>\n",
       "    </tr>\n",
       "    <tr>\n",
       "      <th id=\"T_bd0a3_level0_row8\" class=\"row_heading level0 row8\" >8</th>\n",
       "      <td id=\"T_bd0a3_row8_col0\" class=\"data row8 col0\" ><a href=\"https://old.reddit.com/r/AskReddit/comments/sa3nra/those_of_you_who_are_always_running_15_minutes/\">https://old.reddit.com/r/AskReddit/comments/sa3nra/those_of_you_who_are_always_running_15_minutes/</a></td>\n",
       "    </tr>\n",
       "    <tr>\n",
       "      <th id=\"T_bd0a3_level0_row9\" class=\"row_heading level0 row9\" >9</th>\n",
       "      <td id=\"T_bd0a3_row9_col0\" class=\"data row9 col0\" ><a href=\"https://old.reddit.com/r/AskReddit/comments/sa7cpc/people_above_the_age_of_30_what_should_a_20_yo/\">https://old.reddit.com/r/AskReddit/comments/sa7cpc/people_above_the_age_of_30_what_should_a_20_yo/</a></td>\n",
       "    </tr>\n",
       "    <tr>\n",
       "      <th id=\"T_bd0a3_level0_row10\" class=\"row_heading level0 row10\" >10</th>\n",
       "      <td id=\"T_bd0a3_row10_col0\" class=\"data row10 col0\" ><a href=\"https://old.reddit.com/r/AskReddit/comments/s9flzw/if_the_news_headline_celebrity_outed_as_serial/\">https://old.reddit.com/r/AskReddit/comments/s9flzw/if_the_news_headline_celebrity_outed_as_serial/</a></td>\n",
       "    </tr>\n",
       "    <tr>\n",
       "      <th id=\"T_bd0a3_level0_row11\" class=\"row_heading level0 row11\" >11</th>\n",
       "      <td id=\"T_bd0a3_row11_col0\" class=\"data row11 col0\" ><a href=\"https://old.reddit.com/r/AskReddit/comments/s9qb20/whats_a_movie_that_would_be_100_better_as_a/\">https://old.reddit.com/r/AskReddit/comments/s9qb20/whats_a_movie_that_would_be_100_better_as_a/</a></td>\n",
       "    </tr>\n",
       "    <tr>\n",
       "      <th id=\"T_bd0a3_level0_row12\" class=\"row_heading level0 row12\" >12</th>\n",
       "      <td id=\"T_bd0a3_row12_col0\" class=\"data row12 col0\" ><a href=\"https://old.reddit.com/r/AskReddit/comments/saa5vv/whats_your_favorite_poverty_meal_that_you_still/\">https://old.reddit.com/r/AskReddit/comments/saa5vv/whats_your_favorite_poverty_meal_that_you_still/</a></td>\n",
       "    </tr>\n",
       "    <tr>\n",
       "      <th id=\"T_bd0a3_level0_row13\" class=\"row_heading level0 row13\" >13</th>\n",
       "      <td id=\"T_bd0a3_row13_col0\" class=\"data row13 col0\" ><a href=\"https://old.reddit.com/r/AskReddit/comments/s9dp9x/whats_a_plot_twist_that_is_so_bad_it_ruins_the/\">https://old.reddit.com/r/AskReddit/comments/s9dp9x/whats_a_plot_twist_that_is_so_bad_it_ruins_the/</a></td>\n",
       "    </tr>\n",
       "    <tr>\n",
       "      <th id=\"T_bd0a3_level0_row14\" class=\"row_heading level0 row14\" >14</th>\n",
       "      <td id=\"T_bd0a3_row14_col0\" class=\"data row14 col0\" ><a href=\"https://old.reddit.com/r/AskReddit/comments/sa8w95/which_fictional_universe_has_the_most_wasted/\">https://old.reddit.com/r/AskReddit/comments/sa8w95/which_fictional_universe_has_the_most_wasted/</a></td>\n",
       "    </tr>\n",
       "    <tr>\n",
       "      <th id=\"T_bd0a3_level0_row15\" class=\"row_heading level0 row15\" >15</th>\n",
       "      <td id=\"T_bd0a3_row15_col0\" class=\"data row15 col0\" ><a href=\"https://old.reddit.com/r/AskReddit/comments/s9h0l5/what_is_a_phrase_or_saying_that_you_hate/\">https://old.reddit.com/r/AskReddit/comments/s9h0l5/what_is_a_phrase_or_saying_that_you_hate/</a></td>\n",
       "    </tr>\n",
       "    <tr>\n",
       "      <th id=\"T_bd0a3_level0_row16\" class=\"row_heading level0 row16\" >16</th>\n",
       "      <td id=\"T_bd0a3_row16_col0\" class=\"data row16 col0\" ><a href=\"https://old.reddit.com/r/AskReddit/comments/s980k9/what_is_an_extremely_common_thing_that_others_can/\">https://old.reddit.com/r/AskReddit/comments/s980k9/what_is_an_extremely_common_thing_that_others_can/</a></td>\n",
       "    </tr>\n",
       "    <tr>\n",
       "      <th id=\"T_bd0a3_level0_row17\" class=\"row_heading level0 row17\" >17</th>\n",
       "      <td id=\"T_bd0a3_row17_col0\" class=\"data row17 col0\" ><a href=\"https://old.reddit.com/r/AskReddit/comments/sa6lmm/what_was_your_worst_subject/\">https://old.reddit.com/r/AskReddit/comments/sa6lmm/what_was_your_worst_subject/</a></td>\n",
       "    </tr>\n",
       "    <tr>\n",
       "      <th id=\"T_bd0a3_level0_row18\" class=\"row_heading level0 row18\" >18</th>\n",
       "      <td id=\"T_bd0a3_row18_col0\" class=\"data row18 col0\" ><a href=\"https://old.reddit.com/r/AskReddit/comments/sa8llb/whats_the_best_book_youve_read_in_the_past_12/\">https://old.reddit.com/r/AskReddit/comments/sa8llb/whats_the_best_book_youve_read_in_the_past_12/</a></td>\n",
       "    </tr>\n",
       "    <tr>\n",
       "      <th id=\"T_bd0a3_level0_row19\" class=\"row_heading level0 row19\" >19</th>\n",
       "      <td id=\"T_bd0a3_row19_col0\" class=\"data row19 col0\" ><a href=\"https://old.reddit.com/r/AskReddit/comments/sa30ic/what_exists_only_because_humans_are_dumb/\">https://old.reddit.com/r/AskReddit/comments/sa30ic/what_exists_only_because_humans_are_dumb/</a></td>\n",
       "    </tr>\n",
       "    <tr>\n",
       "      <th id=\"T_bd0a3_level0_row20\" class=\"row_heading level0 row20\" >20</th>\n",
       "      <td id=\"T_bd0a3_row20_col0\" class=\"data row20 col0\" ><a href=\"https://old.reddit.com/r/AskReddit/comments/sabzxa/whats_your_favorite_condiment/\">https://old.reddit.com/r/AskReddit/comments/sabzxa/whats_your_favorite_condiment/</a></td>\n",
       "    </tr>\n",
       "    <tr>\n",
       "      <th id=\"T_bd0a3_level0_row21\" class=\"row_heading level0 row21\" >21</th>\n",
       "      <td id=\"T_bd0a3_row21_col0\" class=\"data row21 col0\" ><a href=\"https://old.reddit.com/r/AskReddit/comments/sa9hrt/what_is_your_favourite_fictional_character/\">https://old.reddit.com/r/AskReddit/comments/sa9hrt/what_is_your_favourite_fictional_character/</a></td>\n",
       "    </tr>\n",
       "    <tr>\n",
       "      <th id=\"T_bd0a3_level0_row22\" class=\"row_heading level0 row22\" >22</th>\n",
       "      <td id=\"T_bd0a3_row22_col0\" class=\"data row22 col0\" ><a href=\"https://old.reddit.com/r/AskReddit/comments/sa5hcj/what_noise_is_pure_bliss_to_your_ears/\">https://old.reddit.com/r/AskReddit/comments/sa5hcj/what_noise_is_pure_bliss_to_your_ears/</a></td>\n",
       "    </tr>\n",
       "    <tr>\n",
       "      <th id=\"T_bd0a3_level0_row23\" class=\"row_heading level0 row23\" >23</th>\n",
       "      <td id=\"T_bd0a3_row23_col0\" class=\"data row23 col0\" ><a href=\"https://old.reddit.com/r/AskReddit/comments/saauqn/how_did_you_find_out_youre_nearsighted_was_there/\">https://old.reddit.com/r/AskReddit/comments/saauqn/how_did_you_find_out_youre_nearsighted_was_there/</a></td>\n",
       "    </tr>\n",
       "    <tr>\n",
       "      <th id=\"T_bd0a3_level0_row24\" class=\"row_heading level0 row24\" >24</th>\n",
       "      <td id=\"T_bd0a3_row24_col0\" class=\"data row24 col0\" ><a href=\"https://old.reddit.com/r/AskReddit/comments/sa4xdv/what_is_one_experience_you_think_no_human_should/\">https://old.reddit.com/r/AskReddit/comments/sa4xdv/what_is_one_experience_you_think_no_human_should/</a></td>\n",
       "    </tr>\n",
       "  </tbody>\n",
       "</table>\n"
      ],
      "text/plain": [
       "<pandas.io.formats.style.Styler at 0x7fed51c0bd90>"
      ]
     },
     "execution_count": 211,
     "metadata": {},
     "output_type": "execute_result"
    }
   ],
   "source": [
    "df = pd.DataFrame(linkslist)\n",
    "\n",
    "def make_clickable(val):\n",
    "    return '<a href=\"{}\">{}</a>'.format(val,val)\n",
    "\n",
    "df.style.format(make_clickable)\n"
   ]
  },
  {
   "cell_type": "code",
   "execution_count": 221,
   "metadata": {},
   "outputs": [
    {
     "data": {
      "text/html": [
       "<style type=\"text/css\">\n",
       "</style>\n",
       "<table id=\"T_1e4de_\">\n",
       "  <thead>\n",
       "    <tr>\n",
       "      <th class=\"blank level0\" >&nbsp;</th>\n",
       "      <th class=\"col_heading level0 col0\" >0</th>\n",
       "    </tr>\n",
       "  </thead>\n",
       "  <tbody>\n",
       "    <tr>\n",
       "      <th id=\"T_1e4de_level0_row0\" class=\"row_heading level0 row0\" >0</th>\n",
       "      <td id=\"T_1e4de_row0_col0\" class=\"data row0 col0\" ><a href=\"https://old.reddit.com/r/AskReddit/comments/sa561l/would_you_stay_locked_inside_of_your_bathroom/\">https://old.reddit.com/r/AskReddit/comments/sa561l/would_you_stay_locked_inside_of_your_bathroom/</a></td>\n",
       "    </tr>\n",
       "    <tr>\n",
       "      <th id=\"T_1e4de_level0_row1\" class=\"row_heading level0 row1\" >1</th>\n",
       "      <td id=\"T_1e4de_row1_col0\" class=\"data row1 col0\" ><a href=\"https://old.reddit.com/r/AskReddit/comments/s9vvjf/what_legendary_reddit_event_does_every_reddittor/\">https://old.reddit.com/r/AskReddit/comments/s9vvjf/what_legendary_reddit_event_does_every_reddittor/</a></td>\n",
       "    </tr>\n",
       "    <tr>\n",
       "      <th id=\"T_1e4de_level0_row2\" class=\"row_heading level0 row2\" >2</th>\n",
       "      <td id=\"T_1e4de_row2_col0\" class=\"data row2 col0\" ><a href=\"https://old.reddit.com/r/AskReddit/comments/sa6m3e/what_is_a_safety_tip_everyone_should_know_about/\">https://old.reddit.com/r/AskReddit/comments/sa6m3e/what_is_a_safety_tip_everyone_should_know_about/</a></td>\n",
       "    </tr>\n",
       "    <tr>\n",
       "      <th id=\"T_1e4de_level0_row3\" class=\"row_heading level0 row3\" >3</th>\n",
       "      <td id=\"T_1e4de_row3_col0\" class=\"data row3 col0\" ><a href=\"https://old.reddit.com/r/AskReddit/comments/s9oaa6/what_is_the_most_beautiful_song_you_have_ever/\">https://old.reddit.com/r/AskReddit/comments/s9oaa6/what_is_the_most_beautiful_song_you_have_ever/</a></td>\n",
       "    </tr>\n",
       "    <tr>\n",
       "      <th id=\"T_1e4de_level0_row4\" class=\"row_heading level0 row4\" >4</th>\n",
       "      <td id=\"T_1e4de_row4_col0\" class=\"data row4 col0\" ><a href=\"https://old.reddit.com/r/AskReddit/comments/s9qkm6/people_named_bruno_how_have_the_last_few_weeks/\">https://old.reddit.com/r/AskReddit/comments/s9qkm6/people_named_bruno_how_have_the_last_few_weeks/</a></td>\n",
       "    </tr>\n",
       "    <tr>\n",
       "      <th id=\"T_1e4de_level0_row5\" class=\"row_heading level0 row5\" >5</th>\n",
       "      <td id=\"T_1e4de_row5_col0\" class=\"data row5 col0\" ><a href=\"https://old.reddit.com/r/AskReddit/comments/s9p5cr/what_are_some_mysteries_that_should_have_been/\">https://old.reddit.com/r/AskReddit/comments/s9p5cr/what_are_some_mysteries_that_should_have_been/</a></td>\n",
       "    </tr>\n",
       "    <tr>\n",
       "      <th id=\"T_1e4de_level0_row6\" class=\"row_heading level0 row6\" >6</th>\n",
       "      <td id=\"T_1e4de_row6_col0\" class=\"data row6 col0\" ><a href=\"https://old.reddit.com/r/AskReddit/comments/s9kfs6/parents_of_reddit_whose_children_have_dated_awful/\">https://old.reddit.com/r/AskReddit/comments/s9kfs6/parents_of_reddit_whose_children_have_dated_awful/</a></td>\n",
       "    </tr>\n",
       "    <tr>\n",
       "      <th id=\"T_1e4de_level0_row7\" class=\"row_heading level0 row7\" >7</th>\n",
       "      <td id=\"T_1e4de_row7_col0\" class=\"data row7 col0\" ><a href=\"https://old.reddit.com/r/AskReddit/comments/sa86vv/pet_owners_of_reddit_whats_the_quickest_youve/\">https://old.reddit.com/r/AskReddit/comments/sa86vv/pet_owners_of_reddit_whats_the_quickest_youve/</a></td>\n",
       "    </tr>\n",
       "    <tr>\n",
       "      <th id=\"T_1e4de_level0_row8\" class=\"row_heading level0 row8\" >8</th>\n",
       "      <td id=\"T_1e4de_row8_col0\" class=\"data row8 col0\" ><a href=\"https://old.reddit.com/r/AskReddit/comments/sa3nra/those_of_you_who_are_always_running_15_minutes/\">https://old.reddit.com/r/AskReddit/comments/sa3nra/those_of_you_who_are_always_running_15_minutes/</a></td>\n",
       "    </tr>\n",
       "    <tr>\n",
       "      <th id=\"T_1e4de_level0_row9\" class=\"row_heading level0 row9\" >9</th>\n",
       "      <td id=\"T_1e4de_row9_col0\" class=\"data row9 col0\" ><a href=\"https://old.reddit.com/r/AskReddit/comments/sa7cpc/people_above_the_age_of_30_what_should_a_20_yo/\">https://old.reddit.com/r/AskReddit/comments/sa7cpc/people_above_the_age_of_30_what_should_a_20_yo/</a></td>\n",
       "    </tr>\n",
       "    <tr>\n",
       "      <th id=\"T_1e4de_level0_row10\" class=\"row_heading level0 row10\" >10</th>\n",
       "      <td id=\"T_1e4de_row10_col0\" class=\"data row10 col0\" ><a href=\"https://old.reddit.com/r/AskReddit/comments/s9flzw/if_the_news_headline_celebrity_outed_as_serial/\">https://old.reddit.com/r/AskReddit/comments/s9flzw/if_the_news_headline_celebrity_outed_as_serial/</a></td>\n",
       "    </tr>\n",
       "    <tr>\n",
       "      <th id=\"T_1e4de_level0_row11\" class=\"row_heading level0 row11\" >11</th>\n",
       "      <td id=\"T_1e4de_row11_col0\" class=\"data row11 col0\" ><a href=\"https://old.reddit.com/r/AskReddit/comments/s9qb20/whats_a_movie_that_would_be_100_better_as_a/\">https://old.reddit.com/r/AskReddit/comments/s9qb20/whats_a_movie_that_would_be_100_better_as_a/</a></td>\n",
       "    </tr>\n",
       "    <tr>\n",
       "      <th id=\"T_1e4de_level0_row12\" class=\"row_heading level0 row12\" >12</th>\n",
       "      <td id=\"T_1e4de_row12_col0\" class=\"data row12 col0\" ><a href=\"https://old.reddit.com/r/AskReddit/comments/saa5vv/whats_your_favorite_poverty_meal_that_you_still/\">https://old.reddit.com/r/AskReddit/comments/saa5vv/whats_your_favorite_poverty_meal_that_you_still/</a></td>\n",
       "    </tr>\n",
       "    <tr>\n",
       "      <th id=\"T_1e4de_level0_row13\" class=\"row_heading level0 row13\" >13</th>\n",
       "      <td id=\"T_1e4de_row13_col0\" class=\"data row13 col0\" ><a href=\"https://old.reddit.com/r/AskReddit/comments/s9dp9x/whats_a_plot_twist_that_is_so_bad_it_ruins_the/\">https://old.reddit.com/r/AskReddit/comments/s9dp9x/whats_a_plot_twist_that_is_so_bad_it_ruins_the/</a></td>\n",
       "    </tr>\n",
       "    <tr>\n",
       "      <th id=\"T_1e4de_level0_row14\" class=\"row_heading level0 row14\" >14</th>\n",
       "      <td id=\"T_1e4de_row14_col0\" class=\"data row14 col0\" ><a href=\"https://old.reddit.com/r/AskReddit/comments/sa8w95/which_fictional_universe_has_the_most_wasted/\">https://old.reddit.com/r/AskReddit/comments/sa8w95/which_fictional_universe_has_the_most_wasted/</a></td>\n",
       "    </tr>\n",
       "    <tr>\n",
       "      <th id=\"T_1e4de_level0_row15\" class=\"row_heading level0 row15\" >15</th>\n",
       "      <td id=\"T_1e4de_row15_col0\" class=\"data row15 col0\" ><a href=\"https://old.reddit.com/r/AskReddit/comments/s9h0l5/what_is_a_phrase_or_saying_that_you_hate/\">https://old.reddit.com/r/AskReddit/comments/s9h0l5/what_is_a_phrase_or_saying_that_you_hate/</a></td>\n",
       "    </tr>\n",
       "    <tr>\n",
       "      <th id=\"T_1e4de_level0_row16\" class=\"row_heading level0 row16\" >16</th>\n",
       "      <td id=\"T_1e4de_row16_col0\" class=\"data row16 col0\" ><a href=\"https://old.reddit.com/r/AskReddit/comments/s980k9/what_is_an_extremely_common_thing_that_others_can/\">https://old.reddit.com/r/AskReddit/comments/s980k9/what_is_an_extremely_common_thing_that_others_can/</a></td>\n",
       "    </tr>\n",
       "    <tr>\n",
       "      <th id=\"T_1e4de_level0_row17\" class=\"row_heading level0 row17\" >17</th>\n",
       "      <td id=\"T_1e4de_row17_col0\" class=\"data row17 col0\" ><a href=\"https://old.reddit.com/r/AskReddit/comments/sa6lmm/what_was_your_worst_subject/\">https://old.reddit.com/r/AskReddit/comments/sa6lmm/what_was_your_worst_subject/</a></td>\n",
       "    </tr>\n",
       "    <tr>\n",
       "      <th id=\"T_1e4de_level0_row18\" class=\"row_heading level0 row18\" >18</th>\n",
       "      <td id=\"T_1e4de_row18_col0\" class=\"data row18 col0\" ><a href=\"https://old.reddit.com/r/AskReddit/comments/sa8llb/whats_the_best_book_youve_read_in_the_past_12/\">https://old.reddit.com/r/AskReddit/comments/sa8llb/whats_the_best_book_youve_read_in_the_past_12/</a></td>\n",
       "    </tr>\n",
       "    <tr>\n",
       "      <th id=\"T_1e4de_level0_row19\" class=\"row_heading level0 row19\" >19</th>\n",
       "      <td id=\"T_1e4de_row19_col0\" class=\"data row19 col0\" ><a href=\"https://old.reddit.com/r/AskReddit/comments/sa30ic/what_exists_only_because_humans_are_dumb/\">https://old.reddit.com/r/AskReddit/comments/sa30ic/what_exists_only_because_humans_are_dumb/</a></td>\n",
       "    </tr>\n",
       "    <tr>\n",
       "      <th id=\"T_1e4de_level0_row20\" class=\"row_heading level0 row20\" >20</th>\n",
       "      <td id=\"T_1e4de_row20_col0\" class=\"data row20 col0\" ><a href=\"https://old.reddit.com/r/AskReddit/comments/sabzxa/whats_your_favorite_condiment/\">https://old.reddit.com/r/AskReddit/comments/sabzxa/whats_your_favorite_condiment/</a></td>\n",
       "    </tr>\n",
       "    <tr>\n",
       "      <th id=\"T_1e4de_level0_row21\" class=\"row_heading level0 row21\" >21</th>\n",
       "      <td id=\"T_1e4de_row21_col0\" class=\"data row21 col0\" ><a href=\"https://old.reddit.com/r/AskReddit/comments/sa9hrt/what_is_your_favourite_fictional_character/\">https://old.reddit.com/r/AskReddit/comments/sa9hrt/what_is_your_favourite_fictional_character/</a></td>\n",
       "    </tr>\n",
       "    <tr>\n",
       "      <th id=\"T_1e4de_level0_row22\" class=\"row_heading level0 row22\" >22</th>\n",
       "      <td id=\"T_1e4de_row22_col0\" class=\"data row22 col0\" ><a href=\"https://old.reddit.com/r/AskReddit/comments/sa5hcj/what_noise_is_pure_bliss_to_your_ears/\">https://old.reddit.com/r/AskReddit/comments/sa5hcj/what_noise_is_pure_bliss_to_your_ears/</a></td>\n",
       "    </tr>\n",
       "    <tr>\n",
       "      <th id=\"T_1e4de_level0_row23\" class=\"row_heading level0 row23\" >23</th>\n",
       "      <td id=\"T_1e4de_row23_col0\" class=\"data row23 col0\" ><a href=\"https://old.reddit.com/r/AskReddit/comments/saauqn/how_did_you_find_out_youre_nearsighted_was_there/\">https://old.reddit.com/r/AskReddit/comments/saauqn/how_did_you_find_out_youre_nearsighted_was_there/</a></td>\n",
       "    </tr>\n",
       "    <tr>\n",
       "      <th id=\"T_1e4de_level0_row24\" class=\"row_heading level0 row24\" >24</th>\n",
       "      <td id=\"T_1e4de_row24_col0\" class=\"data row24 col0\" ><a href=\"https://old.reddit.com/r/AskReddit/comments/sa4xdv/what_is_one_experience_you_think_no_human_should/\">https://old.reddit.com/r/AskReddit/comments/sa4xdv/what_is_one_experience_you_think_no_human_should/</a></td>\n",
       "    </tr>\n",
       "  </tbody>\n",
       "</table>\n"
      ],
      "text/plain": [
       "<pandas.io.formats.style.Styler at 0x7fed51e1ae20>"
      ]
     },
     "execution_count": 221,
     "metadata": {},
     "output_type": "execute_result"
    }
   ],
   "source": [
    "clickable_links = df.style.format(make_clickable)\n",
    "clickable_links"
   ]
  },
  {
   "cell_type": "code",
   "execution_count": 214,
   "metadata": {},
   "outputs": [
    {
     "ename": "TypeError",
     "evalue": "'Styler' object is not subscriptable",
     "output_type": "error",
     "traceback": [
      "\u001b[0;31m---------------------------------------------------------------------------\u001b[0m",
      "\u001b[0;31mTypeError\u001b[0m                                 Traceback (most recent call last)",
      "\u001b[0;32m/var/folders/m0/x31zhsqx22j4mrxd282hm6vc0000gn/T/ipykernel_10190/2861297675.py\u001b[0m in \u001b[0;36m<module>\u001b[0;34m\u001b[0m\n\u001b[0;32m----> 1\u001b[0;31m \u001b[0mprint\u001b[0m\u001b[0;34m(\u001b[0m\u001b[0mclickable_links\u001b[0m\u001b[0;34m[\u001b[0m\u001b[0;36m1\u001b[0m\u001b[0;34m]\u001b[0m\u001b[0;34m)\u001b[0m\u001b[0;34m\u001b[0m\u001b[0;34m\u001b[0m\u001b[0m\n\u001b[0m",
      "\u001b[0;31mTypeError\u001b[0m: 'Styler' object is not subscriptable"
     ]
    }
   ],
   "source": [
    "print(clickable_links[1])"
   ]
  },
  {
   "cell_type": "code",
   "execution_count": 209,
   "metadata": {},
   "outputs": [
    {
     "name": "stdout",
     "output_type": "stream",
     "text": [
      "<pandas.io.formats.style.Styler object at 0x7fecf04e0040>\n"
     ]
    }
   ],
   "source": [
    "print(df.style.format(make_clickable))"
   ]
  },
  {
   "cell_type": "code",
   "execution_count": 213,
   "metadata": {},
   "outputs": [
    {
     "ename": "TypeError",
     "evalue": "'Styler' object is not subscriptable",
     "output_type": "error",
     "traceback": [
      "\u001b[0;31m---------------------------------------------------------------------------\u001b[0m",
      "\u001b[0;31mTypeError\u001b[0m                                 Traceback (most recent call last)",
      "\u001b[0;32m/var/folders/m0/x31zhsqx22j4mrxd282hm6vc0000gn/T/ipykernel_10190/1883384200.py\u001b[0m in \u001b[0;36m<module>\u001b[0;34m\u001b[0m\n\u001b[1;32m      6\u001b[0m \u001b[0;34m\u001b[0m\u001b[0m\n\u001b[1;32m      7\u001b[0m \u001b[0;31m# test the function\u001b[0m\u001b[0;34m\u001b[0m\u001b[0;34m\u001b[0m\u001b[0m\n\u001b[0;32m----> 8\u001b[0;31m \u001b[0mprint\u001b[0m\u001b[0;34m(\u001b[0m\u001b[0mclickable_links\u001b[0m\u001b[0;34m[\u001b[0m\u001b[0;36m0\u001b[0m\u001b[0;34m,\u001b[0m\u001b[0;34m'linkslist'\u001b[0m\u001b[0;34m]\u001b[0m\u001b[0;34m)\u001b[0m\u001b[0;34m\u001b[0m\u001b[0;34m\u001b[0m\u001b[0m\n\u001b[0m\u001b[1;32m      9\u001b[0m \u001b[0mprint\u001b[0m\u001b[0;34m(\u001b[0m\u001b[0mclean_that_post\u001b[0m\u001b[0;34m(\u001b[0m\u001b[0mclickable_links\u001b[0m\u001b[0;34m[\u001b[0m\u001b[0;36m0\u001b[0m\u001b[0;34m,\u001b[0m\u001b[0;34m'post'\u001b[0m\u001b[0;34m]\u001b[0m\u001b[0;34m)\u001b[0m\u001b[0;34m)\u001b[0m\u001b[0;34m\u001b[0m\u001b[0;34m\u001b[0m\u001b[0m\n",
      "\u001b[0;31mTypeError\u001b[0m: 'Styler' object is not subscriptable"
     ]
    }
   ],
   "source": [
    "# write a function to clean up the links\n",
    "\n",
    "def clean_that_link(row):\n",
    "    x = row.split(' (https)')\n",
    "    return x[1]\n",
    "\n",
    "# test the function\n",
    "print(clickable_links[0,'linkslist'])\n",
    "print(clean_that_post(clickable_links[0,'post']))"
   ]
  },
  {
   "cell_type": "code",
   "execution_count": 215,
   "metadata": {},
   "outputs": [],
   "source": [
    "# create a list of titles\n",
    "titles = soup.findAll('p', {'class': 'title'})\n",
    "titleslist=[]\n",
    "for title in titles:\n",
    "    titleslist.append(title.text)"
   ]
  },
  {
   "cell_type": "code",
   "execution_count": 216,
   "metadata": {},
   "outputs": [
    {
     "data": {
      "text/plain": [
       "['Would you stay locked inside of your bathroom (with food, internet, etc.) for 30 days for $1,000,000? Why or why not? (self.AskReddit)',\n",
       " 'What legendary reddit event does every reddittor need to know about? (self.AskReddit)',\n",
       " 'What is a safety tip everyone should know about? (self.AskReddit)',\n",
       " 'What is the most beautiful song you have ever heard? (self.AskReddit)',\n",
       " 'People named Bruno, how have the last few weeks been? (self.AskReddit)',\n",
       " 'What’s your favorite poverty meal that you still eat regardless of where you are financially? (self.AskReddit)',\n",
       " 'Pet owners of Reddit, what\\'s the quickest you\\'ve gone from \"My sweet furry angel\" to \"Why are you doing this, you goddamn goblin?\" (self.AskReddit)',\n",
       " 'Those of you who are always “running 15 minutes late” in the mornings, why not just set your alarm 15 minutes earlier? (self.AskReddit)',\n",
       " \"People above the age of 30 what should a 20 yo know that they generally don't? (self.AskReddit)\",\n",
       " 'What are some mysteries that should have been SOLVED by now? (self.AskReddit)',\n",
       " 'Parents of Reddit whose children have dated awful people, who was the worst? Why? (self.AskReddit)',\n",
       " 'If the news headline “Celebrity outed as serial killer” appeared, who would you expect it to be about? (self.AskReddit)',\n",
       " 'Whats a movie that would be 100% Better as a Muppet Version? (self.AskReddit)',\n",
       " 'Which Fictional Universe has the most Wasted Potential? (self.AskReddit)',\n",
       " 'What’s a plot twist that is so bad it ruins the entire film? (self.AskReddit)',\n",
       " 'What was your worst subject? (self.AskReddit)',\n",
       " 'What is a phrase or saying that you hate? (self.AskReddit)',\n",
       " 'What exists only because humans are dumb? (self.AskReddit)',\n",
       " 'what is your favourite fictional character? (self.AskReddit)',\n",
       " 'What is an extremely common thing that others can do but you can’t? (self.AskReddit)',\n",
       " 'What’s the best book you’ve read in the past 12 months? (self.AskReddit)',\n",
       " \"What's your favorite condiment? (self.AskReddit)\",\n",
       " 'How did you find out you’re nearsighted? Was there something in the distance you couldn’t see but others could? Did someone else notice you squinting, or did you try on someone’s glasses and realize you need them too? What’s your story? (self.AskReddit)',\n",
       " 'What is one experience you think no human should have? (self.AskReddit)',\n",
       " 'What noise is pure bliss to your ears? (self.AskReddit)']"
      ]
     },
     "execution_count": 216,
     "metadata": {},
     "output_type": "execute_result"
    }
   ],
   "source": [
    "titleslist"
   ]
  },
  {
   "cell_type": "code",
   "execution_count": 20,
   "metadata": {},
   "outputs": [
    {
     "data": {
      "text/plain": [
       "<html><body><a href=\"some_url\">next</a>\n",
       "<span class=\"class\"><a href=\"another_url\">later</a></span></body></html>"
      ]
     },
     "execution_count": 20,
     "metadata": {},
     "output_type": "execute_result"
    }
   ],
   "source": [
    "soup"
   ]
  },
  {
   "cell_type": "code",
   "execution_count": null,
   "metadata": {},
   "outputs": [],
   "source": []
  },
  {
   "cell_type": "code",
   "execution_count": 217,
   "metadata": {},
   "outputs": [],
   "source": [
    "# create a list of dates\n",
    "dates = soup.findAll('time', {'class':\"live-timestamp\"})\n",
    "dateslist=[]\n",
    "for date in dates:\n",
    "    output = str(date).split('title=\"')[1].split('2020')[0]\n",
    "    dateslist.append(output)"
   ]
  },
  {
   "cell_type": "code",
   "execution_count": 218,
   "metadata": {},
   "outputs": [
    {
     "data": {
      "text/plain": [
       "[<time class=\"live-timestamp\" datetime=\"2022-01-22T15:43:14+00:00\" title=\"Sat Jan 22 15:43:14 2022 UTC\">6 hours ago</time>,\n",
       " <time class=\"live-timestamp\" datetime=\"2022-01-22T06:13:46+00:00\" title=\"Sat Jan 22 06:13:46 2022 UTC\">16 hours ago</time>,\n",
       " <time class=\"live-timestamp\" datetime=\"2022-01-22T16:52:04+00:00\" title=\"Sat Jan 22 16:52:04 2022 UTC\">5 hours ago</time>,\n",
       " <time class=\"live-timestamp\" datetime=\"2022-01-21T23:34:49+00:00\" title=\"Fri Jan 21 23:34:49 2022 UTC\">22 hours ago</time>,\n",
       " <time class=\"live-timestamp\" datetime=\"2022-01-22T01:23:43+00:00\" title=\"Sat Jan 22 01:23:43 2022 UTC\">21 hours ago</time>,\n",
       " <time class=\"live-timestamp\" datetime=\"2022-01-22T19:34:32+00:00\" title=\"Sat Jan 22 19:34:32 2022 UTC\">2 hours ago</time>,\n",
       " <time class=\"live-timestamp\" datetime=\"2022-01-22T18:03:13+00:00\" title=\"Sat Jan 22 18:03:13 2022 UTC\">4 hours ago</time>,\n",
       " <time class=\"live-timestamp\" datetime=\"2022-01-22T14:28:43+00:00\" title=\"Sat Jan 22 14:28:43 2022 UTC\">8 hours ago</time>,\n",
       " <time class=\"live-timestamp\" datetime=\"2022-01-22T17:25:07+00:00\" title=\"Sat Jan 22 17:25:07 2022 UTC\">5 hours ago</time>,\n",
       " <time class=\"live-timestamp\" datetime=\"2022-01-22T00:14:24+00:00\" title=\"Sat Jan 22 00:14:24 2022 UTC\">22 hours ago</time>,\n",
       " <time class=\"live-timestamp\" datetime=\"2022-01-21T20:43:43+00:00\" title=\"Fri Jan 21 20:43:43 2022 UTC\">1 day ago</time>,\n",
       " <time class=\"live-timestamp\" datetime=\"2022-01-21T17:11:20+00:00\" title=\"Fri Jan 21 17:11:20 2022 UTC\">1 day ago</time>,\n",
       " <time class=\"live-timestamp\" datetime=\"2022-01-22T01:10:27+00:00\" title=\"Sat Jan 22 01:10:27 2022 UTC\">21 hours ago</time>,\n",
       " <time class=\"live-timestamp\" datetime=\"2022-01-22T18:35:45+00:00\" title=\"Sat Jan 22 18:35:45 2022 UTC\">3 hours ago</time>,\n",
       " <time class=\"live-timestamp\" datetime=\"2022-01-21T15:47:52+00:00\" title=\"Fri Jan 21 15:47:52 2022 UTC\">1 day ago</time>,\n",
       " <time class=\"live-timestamp\" datetime=\"2022-01-22T16:51:24+00:00\" title=\"Sat Jan 22 16:51:24 2022 UTC\">5 hours ago</time>,\n",
       " <time class=\"live-timestamp\" datetime=\"2022-01-21T18:12:09+00:00\" title=\"Fri Jan 21 18:12:09 2022 UTC\">1 day ago</time>,\n",
       " <time class=\"live-timestamp\" datetime=\"2022-01-22T13:55:03+00:00\" title=\"Sat Jan 22 13:55:03 2022 UTC\">8 hours ago</time>,\n",
       " <time class=\"live-timestamp\" datetime=\"2022-01-22T19:03:11+00:00\" title=\"Sat Jan 22 19:03:11 2022 UTC\">3 hours ago</time>,\n",
       " <time class=\"live-timestamp\" datetime=\"2022-01-21T10:43:38+00:00\" title=\"Fri Jan 21 10:43:38 2022 UTC\">1 day ago</time>,\n",
       " <time class=\"live-timestamp\" datetime=\"2022-01-22T18:22:10+00:00\" title=\"Sat Jan 22 18:22:10 2022 UTC\">4 hours ago</time>,\n",
       " <time class=\"live-timestamp\" datetime=\"2022-01-22T21:00:02+00:00\" title=\"Sat Jan 22 21:00:02 2022 UTC\">1 hour ago</time>,\n",
       " <time class=\"live-timestamp\" datetime=\"2022-01-22T20:06:14+00:00\" title=\"Sat Jan 22 20:06:14 2022 UTC\">2 hours ago</time>,\n",
       " <time class=\"live-timestamp\" datetime=\"2022-01-22T15:31:36+00:00\" title=\"Sat Jan 22 15:31:36 2022 UTC\">6 hours ago</time>,\n",
       " <time class=\"live-timestamp\" datetime=\"2022-01-22T15:58:10+00:00\" title=\"Sat Jan 22 15:58:10 2022 UTC\">6 hours ago</time>]"
      ]
     },
     "execution_count": 218,
     "metadata": {},
     "output_type": "execute_result"
    }
   ],
   "source": [
    "dates"
   ]
  },
  {
   "cell_type": "code",
   "execution_count": 236,
   "metadata": {},
   "outputs": [],
   "source": [
    "# convert the three lists into a pandas dataframe\n",
    "#df_dict={'date':dateslist, 'post':titleslist, 'links':clickable_links}  #'links':linkslist\n",
    "df_dict={'date':dateslist, 'post':titleslist, 'links':linkslist}  #'links':linkslist\n",
    "\n",
    "working_df = pd.DataFrame(df_dict)\n",
    "pd.set_option('display.max_colwidth', 200)\n",
    "working_df['date'] = working_df['date'].str.strip()\n"
   ]
  },
  {
   "cell_type": "code",
   "execution_count": null,
   "metadata": {},
   "outputs": [],
   "source": []
  },
  {
   "cell_type": "code",
   "execution_count": 237,
   "metadata": {},
   "outputs": [
    {
     "data": {
      "text/plain": [
       "0         https://old.reddit.com/r/AskReddit/comments/sa561l/would_you_stay_locked_inside_of_your_bathroom/\n",
       "1      https://old.reddit.com/r/AskReddit/comments/s9vvjf/what_legendary_reddit_event_does_every_reddittor/\n",
       "2       https://old.reddit.com/r/AskReddit/comments/sa6m3e/what_is_a_safety_tip_everyone_should_know_about/\n",
       "3         https://old.reddit.com/r/AskReddit/comments/s9oaa6/what_is_the_most_beautiful_song_you_have_ever/\n",
       "4        https://old.reddit.com/r/AskReddit/comments/s9qkm6/people_named_bruno_how_have_the_last_few_weeks/\n",
       "5         https://old.reddit.com/r/AskReddit/comments/s9p5cr/what_are_some_mysteries_that_should_have_been/\n",
       "6     https://old.reddit.com/r/AskReddit/comments/s9kfs6/parents_of_reddit_whose_children_have_dated_awful/\n",
       "7         https://old.reddit.com/r/AskReddit/comments/sa86vv/pet_owners_of_reddit_whats_the_quickest_youve/\n",
       "8        https://old.reddit.com/r/AskReddit/comments/sa3nra/those_of_you_who_are_always_running_15_minutes/\n",
       "9        https://old.reddit.com/r/AskReddit/comments/sa7cpc/people_above_the_age_of_30_what_should_a_20_yo/\n",
       "10       https://old.reddit.com/r/AskReddit/comments/s9flzw/if_the_news_headline_celebrity_outed_as_serial/\n",
       "11          https://old.reddit.com/r/AskReddit/comments/s9qb20/whats_a_movie_that_would_be_100_better_as_a/\n",
       "12      https://old.reddit.com/r/AskReddit/comments/saa5vv/whats_your_favorite_poverty_meal_that_you_still/\n",
       "13       https://old.reddit.com/r/AskReddit/comments/s9dp9x/whats_a_plot_twist_that_is_so_bad_it_ruins_the/\n",
       "14         https://old.reddit.com/r/AskReddit/comments/sa8w95/which_fictional_universe_has_the_most_wasted/\n",
       "15             https://old.reddit.com/r/AskReddit/comments/s9h0l5/what_is_a_phrase_or_saying_that_you_hate/\n",
       "16    https://old.reddit.com/r/AskReddit/comments/s980k9/what_is_an_extremely_common_thing_that_others_can/\n",
       "17                          https://old.reddit.com/r/AskReddit/comments/sa6lmm/what_was_your_worst_subject/\n",
       "18        https://old.reddit.com/r/AskReddit/comments/sa8llb/whats_the_best_book_youve_read_in_the_past_12/\n",
       "19             https://old.reddit.com/r/AskReddit/comments/sa30ic/what_exists_only_because_humans_are_dumb/\n",
       "20                        https://old.reddit.com/r/AskReddit/comments/sabzxa/whats_your_favorite_condiment/\n",
       "21           https://old.reddit.com/r/AskReddit/comments/sa9hrt/what_is_your_favourite_fictional_character/\n",
       "22                https://old.reddit.com/r/AskReddit/comments/sa5hcj/what_noise_is_pure_bliss_to_your_ears/\n",
       "23     https://old.reddit.com/r/AskReddit/comments/saauqn/how_did_you_find_out_youre_nearsighted_was_there/\n",
       "24     https://old.reddit.com/r/AskReddit/comments/sa4xdv/what_is_one_experience_you_think_no_human_should/\n",
       "Name: links, dtype: object"
      ]
     },
     "execution_count": 237,
     "metadata": {},
     "output_type": "execute_result"
    }
   ],
   "source": [
    "working_df['links']"
   ]
  },
  {
   "cell_type": "code",
   "execution_count": 238,
   "metadata": {},
   "outputs": [
    {
     "data": {
      "text/html": [
       "<div>\n",
       "<style scoped>\n",
       "    .dataframe tbody tr th:only-of-type {\n",
       "        vertical-align: middle;\n",
       "    }\n",
       "\n",
       "    .dataframe tbody tr th {\n",
       "        vertical-align: top;\n",
       "    }\n",
       "\n",
       "    .dataframe thead th {\n",
       "        text-align: right;\n",
       "    }\n",
       "</style>\n",
       "<table border=\"1\" class=\"dataframe\">\n",
       "  <thead>\n",
       "    <tr style=\"text-align: right;\">\n",
       "      <th></th>\n",
       "      <th>date</th>\n",
       "      <th>post</th>\n",
       "      <th>links</th>\n",
       "    </tr>\n",
       "  </thead>\n",
       "  <tbody>\n",
       "    <tr>\n",
       "      <th>0</th>\n",
       "      <td>Sat Jan 22 15:43:14 2022 UTC\"&gt;6 hours ago&lt;/time&gt;</td>\n",
       "      <td>Would you stay locked inside of your bathroom (with food, internet, etc.) for 30 days for $1,000,000? Why or why not? (self.AskReddit)</td>\n",
       "      <td>https://old.reddit.com/r/AskReddit/comments/sa561l/would_you_stay_locked_inside_of_your_bathroom/</td>\n",
       "    </tr>\n",
       "    <tr>\n",
       "      <th>1</th>\n",
       "      <td>Sat Jan 22 06:13:46 2022 UTC\"&gt;16 hours ago&lt;/time&gt;</td>\n",
       "      <td>What legendary reddit event does every reddittor need to know about? (self.AskReddit)</td>\n",
       "      <td>https://old.reddit.com/r/AskReddit/comments/s9vvjf/what_legendary_reddit_event_does_every_reddittor/</td>\n",
       "    </tr>\n",
       "    <tr>\n",
       "      <th>2</th>\n",
       "      <td>Sat Jan 22 16:52:04 2022 UTC\"&gt;5 hours ago&lt;/time&gt;</td>\n",
       "      <td>What is a safety tip everyone should know about? (self.AskReddit)</td>\n",
       "      <td>https://old.reddit.com/r/AskReddit/comments/sa6m3e/what_is_a_safety_tip_everyone_should_know_about/</td>\n",
       "    </tr>\n",
       "    <tr>\n",
       "      <th>3</th>\n",
       "      <td>Fri Jan 21 23:34:49 2022 UTC\"&gt;22 hours ago&lt;/time&gt;</td>\n",
       "      <td>What is the most beautiful song you have ever heard? (self.AskReddit)</td>\n",
       "      <td>https://old.reddit.com/r/AskReddit/comments/s9oaa6/what_is_the_most_beautiful_song_you_have_ever/</td>\n",
       "    </tr>\n",
       "    <tr>\n",
       "      <th>4</th>\n",
       "      <td>Sat Jan 22 01:23:43 2022 UTC\"&gt;21 hours ago&lt;/time&gt;</td>\n",
       "      <td>People named Bruno, how have the last few weeks been? (self.AskReddit)</td>\n",
       "      <td>https://old.reddit.com/r/AskReddit/comments/s9qkm6/people_named_bruno_how_have_the_last_few_weeks/</td>\n",
       "    </tr>\n",
       "    <tr>\n",
       "      <th>5</th>\n",
       "      <td>Sat Jan 22 19:34:32 2022 UTC\"&gt;2 hours ago&lt;/time&gt;</td>\n",
       "      <td>What’s your favorite poverty meal that you still eat regardless of where you are financially? (self.AskReddit)</td>\n",
       "      <td>https://old.reddit.com/r/AskReddit/comments/s9p5cr/what_are_some_mysteries_that_should_have_been/</td>\n",
       "    </tr>\n",
       "    <tr>\n",
       "      <th>6</th>\n",
       "      <td>Sat Jan 22 18:03:13 2022 UTC\"&gt;4 hours ago&lt;/time&gt;</td>\n",
       "      <td>Pet owners of Reddit, what's the quickest you've gone from \"My sweet furry angel\" to \"Why are you doing this, you goddamn goblin?\" (self.AskReddit)</td>\n",
       "      <td>https://old.reddit.com/r/AskReddit/comments/s9kfs6/parents_of_reddit_whose_children_have_dated_awful/</td>\n",
       "    </tr>\n",
       "    <tr>\n",
       "      <th>7</th>\n",
       "      <td>Sat Jan 22 14:28:43 2022 UTC\"&gt;8 hours ago&lt;/time&gt;</td>\n",
       "      <td>Those of you who are always “running 15 minutes late” in the mornings, why not just set your alarm 15 minutes earlier? (self.AskReddit)</td>\n",
       "      <td>https://old.reddit.com/r/AskReddit/comments/sa86vv/pet_owners_of_reddit_whats_the_quickest_youve/</td>\n",
       "    </tr>\n",
       "    <tr>\n",
       "      <th>8</th>\n",
       "      <td>Sat Jan 22 17:25:07 2022 UTC\"&gt;5 hours ago&lt;/time&gt;</td>\n",
       "      <td>People above the age of 30 what should a 20 yo know that they generally don't? (self.AskReddit)</td>\n",
       "      <td>https://old.reddit.com/r/AskReddit/comments/sa3nra/those_of_you_who_are_always_running_15_minutes/</td>\n",
       "    </tr>\n",
       "    <tr>\n",
       "      <th>9</th>\n",
       "      <td>Sat Jan 22 00:14:24 2022 UTC\"&gt;22 hours ago&lt;/time&gt;</td>\n",
       "      <td>What are some mysteries that should have been SOLVED by now? (self.AskReddit)</td>\n",
       "      <td>https://old.reddit.com/r/AskReddit/comments/sa7cpc/people_above_the_age_of_30_what_should_a_20_yo/</td>\n",
       "    </tr>\n",
       "    <tr>\n",
       "      <th>10</th>\n",
       "      <td>Fri Jan 21 20:43:43 2022 UTC\"&gt;1 day ago&lt;/time&gt;</td>\n",
       "      <td>Parents of Reddit whose children have dated awful people, who was the worst? Why? (self.AskReddit)</td>\n",
       "      <td>https://old.reddit.com/r/AskReddit/comments/s9flzw/if_the_news_headline_celebrity_outed_as_serial/</td>\n",
       "    </tr>\n",
       "    <tr>\n",
       "      <th>11</th>\n",
       "      <td>Fri Jan 21 17:11:20 2022 UTC\"&gt;1 day ago&lt;/time&gt;</td>\n",
       "      <td>If the news headline “Celebrity outed as serial killer” appeared, who would you expect it to be about? (self.AskReddit)</td>\n",
       "      <td>https://old.reddit.com/r/AskReddit/comments/s9qb20/whats_a_movie_that_would_be_100_better_as_a/</td>\n",
       "    </tr>\n",
       "    <tr>\n",
       "      <th>12</th>\n",
       "      <td>Sat Jan 22 01:10:27 2022 UTC\"&gt;21 hours ago&lt;/time&gt;</td>\n",
       "      <td>Whats a movie that would be 100% Better as a Muppet Version? (self.AskReddit)</td>\n",
       "      <td>https://old.reddit.com/r/AskReddit/comments/saa5vv/whats_your_favorite_poverty_meal_that_you_still/</td>\n",
       "    </tr>\n",
       "    <tr>\n",
       "      <th>13</th>\n",
       "      <td>Sat Jan 22 18:35:45 2022 UTC\"&gt;3 hours ago&lt;/time&gt;</td>\n",
       "      <td>Which Fictional Universe has the most Wasted Potential? (self.AskReddit)</td>\n",
       "      <td>https://old.reddit.com/r/AskReddit/comments/s9dp9x/whats_a_plot_twist_that_is_so_bad_it_ruins_the/</td>\n",
       "    </tr>\n",
       "    <tr>\n",
       "      <th>14</th>\n",
       "      <td>Fri Jan 21 15:47:52 2022 UTC\"&gt;1 day ago&lt;/time&gt;</td>\n",
       "      <td>What’s a plot twist that is so bad it ruins the entire film? (self.AskReddit)</td>\n",
       "      <td>https://old.reddit.com/r/AskReddit/comments/sa8w95/which_fictional_universe_has_the_most_wasted/</td>\n",
       "    </tr>\n",
       "    <tr>\n",
       "      <th>15</th>\n",
       "      <td>Sat Jan 22 16:51:24 2022 UTC\"&gt;5 hours ago&lt;/time&gt;</td>\n",
       "      <td>What was your worst subject? (self.AskReddit)</td>\n",
       "      <td>https://old.reddit.com/r/AskReddit/comments/s9h0l5/what_is_a_phrase_or_saying_that_you_hate/</td>\n",
       "    </tr>\n",
       "    <tr>\n",
       "      <th>16</th>\n",
       "      <td>Fri Jan 21 18:12:09 2022 UTC\"&gt;1 day ago&lt;/time&gt;</td>\n",
       "      <td>What is a phrase or saying that you hate? (self.AskReddit)</td>\n",
       "      <td>https://old.reddit.com/r/AskReddit/comments/s980k9/what_is_an_extremely_common_thing_that_others_can/</td>\n",
       "    </tr>\n",
       "    <tr>\n",
       "      <th>17</th>\n",
       "      <td>Sat Jan 22 13:55:03 2022 UTC\"&gt;8 hours ago&lt;/time&gt;</td>\n",
       "      <td>What exists only because humans are dumb? (self.AskReddit)</td>\n",
       "      <td>https://old.reddit.com/r/AskReddit/comments/sa6lmm/what_was_your_worst_subject/</td>\n",
       "    </tr>\n",
       "    <tr>\n",
       "      <th>18</th>\n",
       "      <td>Sat Jan 22 19:03:11 2022 UTC\"&gt;3 hours ago&lt;/time&gt;</td>\n",
       "      <td>what is your favourite fictional character? (self.AskReddit)</td>\n",
       "      <td>https://old.reddit.com/r/AskReddit/comments/sa8llb/whats_the_best_book_youve_read_in_the_past_12/</td>\n",
       "    </tr>\n",
       "    <tr>\n",
       "      <th>19</th>\n",
       "      <td>Fri Jan 21 10:43:38 2022 UTC\"&gt;1 day ago&lt;/time&gt;</td>\n",
       "      <td>What is an extremely common thing that others can do but you can’t? (self.AskReddit)</td>\n",
       "      <td>https://old.reddit.com/r/AskReddit/comments/sa30ic/what_exists_only_because_humans_are_dumb/</td>\n",
       "    </tr>\n",
       "    <tr>\n",
       "      <th>20</th>\n",
       "      <td>Sat Jan 22 18:22:10 2022 UTC\"&gt;4 hours ago&lt;/time&gt;</td>\n",
       "      <td>What’s the best book you’ve read in the past 12 months? (self.AskReddit)</td>\n",
       "      <td>https://old.reddit.com/r/AskReddit/comments/sabzxa/whats_your_favorite_condiment/</td>\n",
       "    </tr>\n",
       "    <tr>\n",
       "      <th>21</th>\n",
       "      <td>Sat Jan 22 21:00:02 2022 UTC\"&gt;1 hour ago&lt;/time&gt;</td>\n",
       "      <td>What's your favorite condiment? (self.AskReddit)</td>\n",
       "      <td>https://old.reddit.com/r/AskReddit/comments/sa9hrt/what_is_your_favourite_fictional_character/</td>\n",
       "    </tr>\n",
       "    <tr>\n",
       "      <th>22</th>\n",
       "      <td>Sat Jan 22 20:06:14 2022 UTC\"&gt;2 hours ago&lt;/time&gt;</td>\n",
       "      <td>How did you find out you’re nearsighted? Was there something in the distance you couldn’t see but others could? Did someone else notice you squinting, or did you try on someone’s glasses and reali...</td>\n",
       "      <td>https://old.reddit.com/r/AskReddit/comments/sa5hcj/what_noise_is_pure_bliss_to_your_ears/</td>\n",
       "    </tr>\n",
       "    <tr>\n",
       "      <th>23</th>\n",
       "      <td>Sat Jan 22 15:31:36 2022 UTC\"&gt;6 hours ago&lt;/time&gt;</td>\n",
       "      <td>What is one experience you think no human should have? (self.AskReddit)</td>\n",
       "      <td>https://old.reddit.com/r/AskReddit/comments/saauqn/how_did_you_find_out_youre_nearsighted_was_there/</td>\n",
       "    </tr>\n",
       "    <tr>\n",
       "      <th>24</th>\n",
       "      <td>Sat Jan 22 15:58:10 2022 UTC\"&gt;6 hours ago&lt;/time&gt;</td>\n",
       "      <td>What noise is pure bliss to your ears? (self.AskReddit)</td>\n",
       "      <td>https://old.reddit.com/r/AskReddit/comments/sa4xdv/what_is_one_experience_you_think_no_human_should/</td>\n",
       "    </tr>\n",
       "  </tbody>\n",
       "</table>\n",
       "</div>"
      ],
      "text/plain": [
       "                                                 date  \\\n",
       "0    Sat Jan 22 15:43:14 2022 UTC\">6 hours ago</time>   \n",
       "1   Sat Jan 22 06:13:46 2022 UTC\">16 hours ago</time>   \n",
       "2    Sat Jan 22 16:52:04 2022 UTC\">5 hours ago</time>   \n",
       "3   Fri Jan 21 23:34:49 2022 UTC\">22 hours ago</time>   \n",
       "4   Sat Jan 22 01:23:43 2022 UTC\">21 hours ago</time>   \n",
       "5    Sat Jan 22 19:34:32 2022 UTC\">2 hours ago</time>   \n",
       "6    Sat Jan 22 18:03:13 2022 UTC\">4 hours ago</time>   \n",
       "7    Sat Jan 22 14:28:43 2022 UTC\">8 hours ago</time>   \n",
       "8    Sat Jan 22 17:25:07 2022 UTC\">5 hours ago</time>   \n",
       "9   Sat Jan 22 00:14:24 2022 UTC\">22 hours ago</time>   \n",
       "10     Fri Jan 21 20:43:43 2022 UTC\">1 day ago</time>   \n",
       "11     Fri Jan 21 17:11:20 2022 UTC\">1 day ago</time>   \n",
       "12  Sat Jan 22 01:10:27 2022 UTC\">21 hours ago</time>   \n",
       "13   Sat Jan 22 18:35:45 2022 UTC\">3 hours ago</time>   \n",
       "14     Fri Jan 21 15:47:52 2022 UTC\">1 day ago</time>   \n",
       "15   Sat Jan 22 16:51:24 2022 UTC\">5 hours ago</time>   \n",
       "16     Fri Jan 21 18:12:09 2022 UTC\">1 day ago</time>   \n",
       "17   Sat Jan 22 13:55:03 2022 UTC\">8 hours ago</time>   \n",
       "18   Sat Jan 22 19:03:11 2022 UTC\">3 hours ago</time>   \n",
       "19     Fri Jan 21 10:43:38 2022 UTC\">1 day ago</time>   \n",
       "20   Sat Jan 22 18:22:10 2022 UTC\">4 hours ago</time>   \n",
       "21    Sat Jan 22 21:00:02 2022 UTC\">1 hour ago</time>   \n",
       "22   Sat Jan 22 20:06:14 2022 UTC\">2 hours ago</time>   \n",
       "23   Sat Jan 22 15:31:36 2022 UTC\">6 hours ago</time>   \n",
       "24   Sat Jan 22 15:58:10 2022 UTC\">6 hours ago</time>   \n",
       "\n",
       "                                                                                                                                                                                                       post  \\\n",
       "0                                                                    Would you stay locked inside of your bathroom (with food, internet, etc.) for 30 days for $1,000,000? Why or why not? (self.AskReddit)   \n",
       "1                                                                                                                     What legendary reddit event does every reddittor need to know about? (self.AskReddit)   \n",
       "2                                                                                                                                         What is a safety tip everyone should know about? (self.AskReddit)   \n",
       "3                                                                                                                                     What is the most beautiful song you have ever heard? (self.AskReddit)   \n",
       "4                                                                                                                                    People named Bruno, how have the last few weeks been? (self.AskReddit)   \n",
       "5                                                                                            What’s your favorite poverty meal that you still eat regardless of where you are financially? (self.AskReddit)   \n",
       "6                                                       Pet owners of Reddit, what's the quickest you've gone from \"My sweet furry angel\" to \"Why are you doing this, you goddamn goblin?\" (self.AskReddit)   \n",
       "7                                                                   Those of you who are always “running 15 minutes late” in the mornings, why not just set your alarm 15 minutes earlier? (self.AskReddit)   \n",
       "8                                                                                                           People above the age of 30 what should a 20 yo know that they generally don't? (self.AskReddit)   \n",
       "9                                                                                                                             What are some mysteries that should have been SOLVED by now? (self.AskReddit)   \n",
       "10                                                                                                       Parents of Reddit whose children have dated awful people, who was the worst? Why? (self.AskReddit)   \n",
       "11                                                                                  If the news headline “Celebrity outed as serial killer” appeared, who would you expect it to be about? (self.AskReddit)   \n",
       "12                                                                                                                            Whats a movie that would be 100% Better as a Muppet Version? (self.AskReddit)   \n",
       "13                                                                                                                                 Which Fictional Universe has the most Wasted Potential? (self.AskReddit)   \n",
       "14                                                                                                                            What’s a plot twist that is so bad it ruins the entire film? (self.AskReddit)   \n",
       "15                                                                                                                                                            What was your worst subject? (self.AskReddit)   \n",
       "16                                                                                                                                               What is a phrase or saying that you hate? (self.AskReddit)   \n",
       "17                                                                                                                                               What exists only because humans are dumb? (self.AskReddit)   \n",
       "18                                                                                                                                             what is your favourite fictional character? (self.AskReddit)   \n",
       "19                                                                                                                     What is an extremely common thing that others can do but you can’t? (self.AskReddit)   \n",
       "20                                                                                                                                 What’s the best book you’ve read in the past 12 months? (self.AskReddit)   \n",
       "21                                                                                                                                                         What's your favorite condiment? (self.AskReddit)   \n",
       "22  How did you find out you’re nearsighted? Was there something in the distance you couldn’t see but others could? Did someone else notice you squinting, or did you try on someone’s glasses and reali...   \n",
       "23                                                                                                                                  What is one experience you think no human should have? (self.AskReddit)   \n",
       "24                                                                                                                                                  What noise is pure bliss to your ears? (self.AskReddit)   \n",
       "\n",
       "                                                                                                    links  \n",
       "0       https://old.reddit.com/r/AskReddit/comments/sa561l/would_you_stay_locked_inside_of_your_bathroom/  \n",
       "1    https://old.reddit.com/r/AskReddit/comments/s9vvjf/what_legendary_reddit_event_does_every_reddittor/  \n",
       "2     https://old.reddit.com/r/AskReddit/comments/sa6m3e/what_is_a_safety_tip_everyone_should_know_about/  \n",
       "3       https://old.reddit.com/r/AskReddit/comments/s9oaa6/what_is_the_most_beautiful_song_you_have_ever/  \n",
       "4      https://old.reddit.com/r/AskReddit/comments/s9qkm6/people_named_bruno_how_have_the_last_few_weeks/  \n",
       "5       https://old.reddit.com/r/AskReddit/comments/s9p5cr/what_are_some_mysteries_that_should_have_been/  \n",
       "6   https://old.reddit.com/r/AskReddit/comments/s9kfs6/parents_of_reddit_whose_children_have_dated_awful/  \n",
       "7       https://old.reddit.com/r/AskReddit/comments/sa86vv/pet_owners_of_reddit_whats_the_quickest_youve/  \n",
       "8      https://old.reddit.com/r/AskReddit/comments/sa3nra/those_of_you_who_are_always_running_15_minutes/  \n",
       "9      https://old.reddit.com/r/AskReddit/comments/sa7cpc/people_above_the_age_of_30_what_should_a_20_yo/  \n",
       "10     https://old.reddit.com/r/AskReddit/comments/s9flzw/if_the_news_headline_celebrity_outed_as_serial/  \n",
       "11        https://old.reddit.com/r/AskReddit/comments/s9qb20/whats_a_movie_that_would_be_100_better_as_a/  \n",
       "12    https://old.reddit.com/r/AskReddit/comments/saa5vv/whats_your_favorite_poverty_meal_that_you_still/  \n",
       "13     https://old.reddit.com/r/AskReddit/comments/s9dp9x/whats_a_plot_twist_that_is_so_bad_it_ruins_the/  \n",
       "14       https://old.reddit.com/r/AskReddit/comments/sa8w95/which_fictional_universe_has_the_most_wasted/  \n",
       "15           https://old.reddit.com/r/AskReddit/comments/s9h0l5/what_is_a_phrase_or_saying_that_you_hate/  \n",
       "16  https://old.reddit.com/r/AskReddit/comments/s980k9/what_is_an_extremely_common_thing_that_others_can/  \n",
       "17                        https://old.reddit.com/r/AskReddit/comments/sa6lmm/what_was_your_worst_subject/  \n",
       "18      https://old.reddit.com/r/AskReddit/comments/sa8llb/whats_the_best_book_youve_read_in_the_past_12/  \n",
       "19           https://old.reddit.com/r/AskReddit/comments/sa30ic/what_exists_only_because_humans_are_dumb/  \n",
       "20                      https://old.reddit.com/r/AskReddit/comments/sabzxa/whats_your_favorite_condiment/  \n",
       "21         https://old.reddit.com/r/AskReddit/comments/sa9hrt/what_is_your_favourite_fictional_character/  \n",
       "22              https://old.reddit.com/r/AskReddit/comments/sa5hcj/what_noise_is_pure_bliss_to_your_ears/  \n",
       "23   https://old.reddit.com/r/AskReddit/comments/saauqn/how_did_you_find_out_youre_nearsighted_was_there/  \n",
       "24   https://old.reddit.com/r/AskReddit/comments/sa4xdv/what_is_one_experience_you_think_no_human_should/  "
      ]
     },
     "execution_count": 238,
     "metadata": {},
     "output_type": "execute_result"
    }
   ],
   "source": [
    "working_df"
   ]
  },
  {
   "cell_type": "markdown",
   "metadata": {},
   "source": [
    "### Clean-up"
   ]
  },
  {
   "cell_type": "code",
   "execution_count": 239,
   "metadata": {},
   "outputs": [
    {
     "name": "stdout",
     "output_type": "stream",
     "text": [
      "Would you stay locked inside of your bathroom (with food, internet, etc.) for 30 days for $1,000,000? Why or why not? (self.AskReddit)\n",
      "Would you stay locked inside of your bathroom (with food, internet, etc.) for 30 days for $1,000,000? Why or why not?\n"
     ]
    }
   ],
   "source": [
    "# write a function to clean up the post\n",
    "\n",
    "def clean_that_post(row):\n",
    "    x = row.split(' (self.AskReddit)')\n",
    "    return x[0]\n",
    "\n",
    "# test the function\n",
    "print(working_df.loc[0,'post'])\n",
    "print(clean_that_post(working_df.loc[0,'post']))"
   ]
  },
  {
   "cell_type": "code",
   "execution_count": 240,
   "metadata": {},
   "outputs": [
    {
     "data": {
      "text/html": [
       "<div>\n",
       "<style scoped>\n",
       "    .dataframe tbody tr th:only-of-type {\n",
       "        vertical-align: middle;\n",
       "    }\n",
       "\n",
       "    .dataframe tbody tr th {\n",
       "        vertical-align: top;\n",
       "    }\n",
       "\n",
       "    .dataframe thead th {\n",
       "        text-align: right;\n",
       "    }\n",
       "</style>\n",
       "<table border=\"1\" class=\"dataframe\">\n",
       "  <thead>\n",
       "    <tr style=\"text-align: right;\">\n",
       "      <th></th>\n",
       "      <th>date</th>\n",
       "      <th>post</th>\n",
       "      <th>links</th>\n",
       "    </tr>\n",
       "  </thead>\n",
       "  <tbody>\n",
       "    <tr>\n",
       "      <th>0</th>\n",
       "      <td>Sat Jan 22 15:43:14 2022 UTC\"&gt;6 hours ago&lt;/time&gt;</td>\n",
       "      <td>Would you stay locked inside of your bathroom (with food, internet, etc.) for 30 days for $1,000,000? Why or why not?</td>\n",
       "      <td>https://old.reddit.com/r/AskReddit/comments/sa561l/would_you_stay_locked_inside_of_your_bathroom/</td>\n",
       "    </tr>\n",
       "    <tr>\n",
       "      <th>1</th>\n",
       "      <td>Sat Jan 22 06:13:46 2022 UTC\"&gt;16 hours ago&lt;/time&gt;</td>\n",
       "      <td>What legendary reddit event does every reddittor need to know about?</td>\n",
       "      <td>https://old.reddit.com/r/AskReddit/comments/s9vvjf/what_legendary_reddit_event_does_every_reddittor/</td>\n",
       "    </tr>\n",
       "    <tr>\n",
       "      <th>2</th>\n",
       "      <td>Sat Jan 22 16:52:04 2022 UTC\"&gt;5 hours ago&lt;/time&gt;</td>\n",
       "      <td>What is a safety tip everyone should know about?</td>\n",
       "      <td>https://old.reddit.com/r/AskReddit/comments/sa6m3e/what_is_a_safety_tip_everyone_should_know_about/</td>\n",
       "    </tr>\n",
       "  </tbody>\n",
       "</table>\n",
       "</div>"
      ],
      "text/plain": [
       "                                                date  \\\n",
       "0   Sat Jan 22 15:43:14 2022 UTC\">6 hours ago</time>   \n",
       "1  Sat Jan 22 06:13:46 2022 UTC\">16 hours ago</time>   \n",
       "2   Sat Jan 22 16:52:04 2022 UTC\">5 hours ago</time>   \n",
       "\n",
       "                                                                                                                    post  \\\n",
       "0  Would you stay locked inside of your bathroom (with food, internet, etc.) for 30 days for $1,000,000? Why or why not?   \n",
       "1                                                   What legendary reddit event does every reddittor need to know about?   \n",
       "2                                                                       What is a safety tip everyone should know about?   \n",
       "\n",
       "                                                                                                  links  \n",
       "0     https://old.reddit.com/r/AskReddit/comments/sa561l/would_you_stay_locked_inside_of_your_bathroom/  \n",
       "1  https://old.reddit.com/r/AskReddit/comments/s9vvjf/what_legendary_reddit_event_does_every_reddittor/  \n",
       "2   https://old.reddit.com/r/AskReddit/comments/sa6m3e/what_is_a_safety_tip_everyone_should_know_about/  "
      ]
     },
     "execution_count": 240,
     "metadata": {},
     "output_type": "execute_result"
    }
   ],
   "source": [
    "# apply the function\n",
    "working_df['post']=working_df['post'].apply(clean_that_post)\n",
    "working_df.head(3)"
   ]
  },
  {
   "cell_type": "code",
   "execution_count": null,
   "metadata": {},
   "outputs": [],
   "source": []
  },
  {
   "cell_type": "code",
   "execution_count": 241,
   "metadata": {},
   "outputs": [
    {
     "data": {
      "text/plain": [
       "'2020 Jan 22 15:43:14'"
      ]
     },
     "execution_count": 241,
     "metadata": {},
     "output_type": "execute_result"
    }
   ],
   "source": [
    "# write a function to clean up the date\n",
    "def parse_that_date(row):\n",
    "    x = row.split(' ')[1:]\n",
    "    y = ' '.join(x)\n",
    "    z = '2020 '+ y\n",
    "    return z[:20]\n",
    "\n",
    "# test the function\n",
    "parse_that_date(working_df.iloc[0,0])"
   ]
  },
  {
   "cell_type": "code",
   "execution_count": 242,
   "metadata": {},
   "outputs": [],
   "source": [
    "# apply the date parsing function and sort the dataframe\n",
    "working_df['cleandate']=working_df['date'].apply(parse_that_date)\n",
    "working_df['UTC_date'] = pd.to_datetime(working_df['cleandate'])\n",
    "working_df.sort_values('UTC_date', inplace=True, ascending=False)"
   ]
  },
  {
   "cell_type": "code",
   "execution_count": 243,
   "metadata": {},
   "outputs": [
    {
     "data": {
      "text/html": [
       "<div>\n",
       "<style scoped>\n",
       "    .dataframe tbody tr th:only-of-type {\n",
       "        vertical-align: middle;\n",
       "    }\n",
       "\n",
       "    .dataframe tbody tr th {\n",
       "        vertical-align: top;\n",
       "    }\n",
       "\n",
       "    .dataframe thead th {\n",
       "        text-align: right;\n",
       "    }\n",
       "</style>\n",
       "<table border=\"1\" class=\"dataframe\">\n",
       "  <thead>\n",
       "    <tr style=\"text-align: right;\">\n",
       "      <th></th>\n",
       "      <th>date</th>\n",
       "      <th>post</th>\n",
       "      <th>links</th>\n",
       "      <th>cleandate</th>\n",
       "      <th>UTC_date</th>\n",
       "      <th>time</th>\n",
       "    </tr>\n",
       "  </thead>\n",
       "  <tbody>\n",
       "    <tr>\n",
       "      <th>21</th>\n",
       "      <td>2020-01-22</td>\n",
       "      <td>What's your favorite condiment?</td>\n",
       "      <td>https://old.reddit.com/r/AskReddit/comments/sa9hrt/what_is_your_favourite_fictional_character/</td>\n",
       "      <td>2020 Jan 22 21:00:02</td>\n",
       "      <td>2020-01-22 21:00:02</td>\n",
       "      <td>21:00:02</td>\n",
       "    </tr>\n",
       "    <tr>\n",
       "      <th>22</th>\n",
       "      <td>2020-01-22</td>\n",
       "      <td>How did you find out you’re nearsighted? Was there something in the distance you couldn’t see but others could? Did someone else notice you squinting, or did you try on someone’s glasses and reali...</td>\n",
       "      <td>https://old.reddit.com/r/AskReddit/comments/sa5hcj/what_noise_is_pure_bliss_to_your_ears/</td>\n",
       "      <td>2020 Jan 22 20:06:14</td>\n",
       "      <td>2020-01-22 20:06:14</td>\n",
       "      <td>20:06:14</td>\n",
       "    </tr>\n",
       "    <tr>\n",
       "      <th>5</th>\n",
       "      <td>2020-01-22</td>\n",
       "      <td>What’s your favorite poverty meal that you still eat regardless of where you are financially?</td>\n",
       "      <td>https://old.reddit.com/r/AskReddit/comments/s9p5cr/what_are_some_mysteries_that_should_have_been/</td>\n",
       "      <td>2020 Jan 22 19:34:32</td>\n",
       "      <td>2020-01-22 19:34:32</td>\n",
       "      <td>19:34:32</td>\n",
       "    </tr>\n",
       "    <tr>\n",
       "      <th>18</th>\n",
       "      <td>2020-01-22</td>\n",
       "      <td>what is your favourite fictional character?</td>\n",
       "      <td>https://old.reddit.com/r/AskReddit/comments/sa8llb/whats_the_best_book_youve_read_in_the_past_12/</td>\n",
       "      <td>2020 Jan 22 19:03:11</td>\n",
       "      <td>2020-01-22 19:03:11</td>\n",
       "      <td>19:03:11</td>\n",
       "    </tr>\n",
       "    <tr>\n",
       "      <th>13</th>\n",
       "      <td>2020-01-22</td>\n",
       "      <td>Which Fictional Universe has the most Wasted Potential?</td>\n",
       "      <td>https://old.reddit.com/r/AskReddit/comments/s9dp9x/whats_a_plot_twist_that_is_so_bad_it_ruins_the/</td>\n",
       "      <td>2020 Jan 22 18:35:45</td>\n",
       "      <td>2020-01-22 18:35:45</td>\n",
       "      <td>18:35:45</td>\n",
       "    </tr>\n",
       "  </tbody>\n",
       "</table>\n",
       "</div>"
      ],
      "text/plain": [
       "          date  \\\n",
       "21  2020-01-22   \n",
       "22  2020-01-22   \n",
       "5   2020-01-22   \n",
       "18  2020-01-22   \n",
       "13  2020-01-22   \n",
       "\n",
       "                                                                                                                                                                                                       post  \\\n",
       "21                                                                                                                                                                          What's your favorite condiment?   \n",
       "22  How did you find out you’re nearsighted? Was there something in the distance you couldn’t see but others could? Did someone else notice you squinting, or did you try on someone’s glasses and reali...   \n",
       "5                                                                                                             What’s your favorite poverty meal that you still eat regardless of where you are financially?   \n",
       "18                                                                                                                                                              what is your favourite fictional character?   \n",
       "13                                                                                                                                                  Which Fictional Universe has the most Wasted Potential?   \n",
       "\n",
       "                                                                                                 links  \\\n",
       "21      https://old.reddit.com/r/AskReddit/comments/sa9hrt/what_is_your_favourite_fictional_character/   \n",
       "22           https://old.reddit.com/r/AskReddit/comments/sa5hcj/what_noise_is_pure_bliss_to_your_ears/   \n",
       "5    https://old.reddit.com/r/AskReddit/comments/s9p5cr/what_are_some_mysteries_that_should_have_been/   \n",
       "18   https://old.reddit.com/r/AskReddit/comments/sa8llb/whats_the_best_book_youve_read_in_the_past_12/   \n",
       "13  https://old.reddit.com/r/AskReddit/comments/s9dp9x/whats_a_plot_twist_that_is_so_bad_it_ruins_the/   \n",
       "\n",
       "               cleandate            UTC_date      time  \n",
       "21  2020 Jan 22 21:00:02 2020-01-22 21:00:02  21:00:02  \n",
       "22  2020 Jan 22 20:06:14 2020-01-22 20:06:14  20:06:14  \n",
       "5   2020 Jan 22 19:34:32 2020-01-22 19:34:32  19:34:32  \n",
       "18  2020 Jan 22 19:03:11 2020-01-22 19:03:11  19:03:11  \n",
       "13  2020 Jan 22 18:35:45 2020-01-22 18:35:45  18:35:45  "
      ]
     },
     "execution_count": 243,
     "metadata": {},
     "output_type": "execute_result"
    }
   ],
   "source": [
    "# split into 2 date/time variables\n",
    "working_df['date']=working_df['UTC_date'].dt.date\n",
    "working_df['time']=working_df['UTC_date'].dt.time\n",
    "working_df.head()"
   ]
  },
  {
   "cell_type": "markdown",
   "metadata": {},
   "source": [
    "### Final DF"
   ]
  },
  {
   "cell_type": "code",
   "execution_count": 244,
   "metadata": {},
   "outputs": [
    {
     "data": {
      "text/html": [
       "<div>\n",
       "<style scoped>\n",
       "    .dataframe tbody tr th:only-of-type {\n",
       "        vertical-align: middle;\n",
       "    }\n",
       "\n",
       "    .dataframe tbody tr th {\n",
       "        vertical-align: top;\n",
       "    }\n",
       "\n",
       "    .dataframe thead th {\n",
       "        text-align: right;\n",
       "    }\n",
       "</style>\n",
       "<table border=\"1\" class=\"dataframe\">\n",
       "  <thead>\n",
       "    <tr style=\"text-align: right;\">\n",
       "      <th></th>\n",
       "      <th>date</th>\n",
       "      <th>time</th>\n",
       "      <th>post</th>\n",
       "      <th>links</th>\n",
       "    </tr>\n",
       "  </thead>\n",
       "  <tbody>\n",
       "    <tr>\n",
       "      <th>21</th>\n",
       "      <td>2020-01-22</td>\n",
       "      <td>21:00:02</td>\n",
       "      <td>What's your favorite condiment?</td>\n",
       "      <td>https://old.reddit.com/r/AskReddit/comments/sa9hrt/what_is_your_favourite_fictional_character/</td>\n",
       "    </tr>\n",
       "    <tr>\n",
       "      <th>22</th>\n",
       "      <td>2020-01-22</td>\n",
       "      <td>20:06:14</td>\n",
       "      <td>How did you find out you’re nearsighted? Was there something in the distance you couldn’t see but others could? Did someone else notice you squinting, or did you try on someone’s glasses and reali...</td>\n",
       "      <td>https://old.reddit.com/r/AskReddit/comments/sa5hcj/what_noise_is_pure_bliss_to_your_ears/</td>\n",
       "    </tr>\n",
       "    <tr>\n",
       "      <th>5</th>\n",
       "      <td>2020-01-22</td>\n",
       "      <td>19:34:32</td>\n",
       "      <td>What’s your favorite poverty meal that you still eat regardless of where you are financially?</td>\n",
       "      <td>https://old.reddit.com/r/AskReddit/comments/s9p5cr/what_are_some_mysteries_that_should_have_been/</td>\n",
       "    </tr>\n",
       "    <tr>\n",
       "      <th>18</th>\n",
       "      <td>2020-01-22</td>\n",
       "      <td>19:03:11</td>\n",
       "      <td>what is your favourite fictional character?</td>\n",
       "      <td>https://old.reddit.com/r/AskReddit/comments/sa8llb/whats_the_best_book_youve_read_in_the_past_12/</td>\n",
       "    </tr>\n",
       "    <tr>\n",
       "      <th>13</th>\n",
       "      <td>2020-01-22</td>\n",
       "      <td>18:35:45</td>\n",
       "      <td>Which Fictional Universe has the most Wasted Potential?</td>\n",
       "      <td>https://old.reddit.com/r/AskReddit/comments/s9dp9x/whats_a_plot_twist_that_is_so_bad_it_ruins_the/</td>\n",
       "    </tr>\n",
       "  </tbody>\n",
       "</table>\n",
       "</div>"
      ],
      "text/plain": [
       "          date      time  \\\n",
       "21  2020-01-22  21:00:02   \n",
       "22  2020-01-22  20:06:14   \n",
       "5   2020-01-22  19:34:32   \n",
       "18  2020-01-22  19:03:11   \n",
       "13  2020-01-22  18:35:45   \n",
       "\n",
       "                                                                                                                                                                                                       post  \\\n",
       "21                                                                                                                                                                          What's your favorite condiment?   \n",
       "22  How did you find out you’re nearsighted? Was there something in the distance you couldn’t see but others could? Did someone else notice you squinting, or did you try on someone’s glasses and reali...   \n",
       "5                                                                                                             What’s your favorite poverty meal that you still eat regardless of where you are financially?   \n",
       "18                                                                                                                                                              what is your favourite fictional character?   \n",
       "13                                                                                                                                                  Which Fictional Universe has the most Wasted Potential?   \n",
       "\n",
       "                                                                                                 links  \n",
       "21      https://old.reddit.com/r/AskReddit/comments/sa9hrt/what_is_your_favourite_fictional_character/  \n",
       "22           https://old.reddit.com/r/AskReddit/comments/sa5hcj/what_noise_is_pure_bliss_to_your_ears/  \n",
       "5    https://old.reddit.com/r/AskReddit/comments/s9p5cr/what_are_some_mysteries_that_should_have_been/  \n",
       "18   https://old.reddit.com/r/AskReddit/comments/sa8llb/whats_the_best_book_youve_read_in_the_past_12/  \n",
       "13  https://old.reddit.com/r/AskReddit/comments/s9dp9x/whats_a_plot_twist_that_is_so_bad_it_ruins_the/  "
      ]
     },
     "execution_count": 244,
     "metadata": {},
     "output_type": "execute_result"
    }
   ],
   "source": [
    "final_df = working_df[['date', 'time', 'post', 'links']].copy()\n",
    "final_df.head()"
   ]
  },
  {
   "cell_type": "code",
   "execution_count": 116,
   "metadata": {},
   "outputs": [],
   "source": [
    "# write pandas df as html file \n",
    "# html = final_df.to_html(index=False) \n",
    "# text_file = open(\"docs/static/redditposts.html\", \"w\") \n",
    "# text_file.write(html) \n",
    "# text_file.close() "
   ]
  },
  {
   "cell_type": "code",
   "execution_count": 245,
   "metadata": {},
   "outputs": [
    {
     "data": {
      "text/plain": [
       "Index(['date', 'time', 'post', 'links'], dtype='object')"
      ]
     },
     "execution_count": 245,
     "metadata": {},
     "output_type": "execute_result"
    }
   ],
   "source": [
    "final_df.columns"
   ]
  },
  {
   "cell_type": "code",
   "execution_count": 247,
   "metadata": {},
   "outputs": [
    {
     "ename": "AttributeError",
     "evalue": "'Series' object has no attribute 'make_clickable'",
     "output_type": "error",
     "traceback": [
      "\u001b[0;31m---------------------------------------------------------------------------\u001b[0m",
      "\u001b[0;31mAttributeError\u001b[0m                            Traceback (most recent call last)",
      "\u001b[0;32m/var/folders/m0/x31zhsqx22j4mrxd282hm6vc0000gn/T/ipykernel_10190/3010292662.py\u001b[0m in \u001b[0;36m<module>\u001b[0;34m\u001b[0m\n\u001b[1;32m      5\u001b[0m                                    \u001b[0mfinal_df\u001b[0m\u001b[0;34m[\u001b[0m\u001b[0;34m'time'\u001b[0m\u001b[0;34m]\u001b[0m\u001b[0;34m,\u001b[0m\u001b[0;34m\u001b[0m\u001b[0;34m\u001b[0m\u001b[0m\n\u001b[1;32m      6\u001b[0m                                    \u001b[0mfinal_df\u001b[0m\u001b[0;34m[\u001b[0m\u001b[0;34m'post'\u001b[0m\u001b[0;34m]\u001b[0m\u001b[0;34m.\u001b[0m\u001b[0mvalues\u001b[0m\u001b[0;34m,\u001b[0m\u001b[0;34m\u001b[0m\u001b[0;34m\u001b[0m\u001b[0m\n\u001b[0;32m----> 7\u001b[0;31m                                    final_df['links'].make_clickable])\n\u001b[0m\u001b[1;32m      8\u001b[0m              )\n",
      "\u001b[0;32m/opt/homebrew/anaconda3/lib/python3.9/site-packages/pandas/core/generic.py\u001b[0m in \u001b[0;36m__getattr__\u001b[0;34m(self, name)\u001b[0m\n\u001b[1;32m   5485\u001b[0m         ):\n\u001b[1;32m   5486\u001b[0m             \u001b[0;32mreturn\u001b[0m \u001b[0mself\u001b[0m\u001b[0;34m[\u001b[0m\u001b[0mname\u001b[0m\u001b[0;34m]\u001b[0m\u001b[0;34m\u001b[0m\u001b[0;34m\u001b[0m\u001b[0m\n\u001b[0;32m-> 5487\u001b[0;31m         \u001b[0;32mreturn\u001b[0m \u001b[0mobject\u001b[0m\u001b[0;34m.\u001b[0m\u001b[0m__getattribute__\u001b[0m\u001b[0;34m(\u001b[0m\u001b[0mself\u001b[0m\u001b[0;34m,\u001b[0m \u001b[0mname\u001b[0m\u001b[0;34m)\u001b[0m\u001b[0;34m\u001b[0m\u001b[0;34m\u001b[0m\u001b[0m\n\u001b[0m\u001b[1;32m   5488\u001b[0m \u001b[0;34m\u001b[0m\u001b[0m\n\u001b[1;32m   5489\u001b[0m     \u001b[0;32mdef\u001b[0m \u001b[0m__setattr__\u001b[0m\u001b[0;34m(\u001b[0m\u001b[0mself\u001b[0m\u001b[0;34m,\u001b[0m \u001b[0mname\u001b[0m\u001b[0;34m:\u001b[0m \u001b[0mstr\u001b[0m\u001b[0;34m,\u001b[0m \u001b[0mvalue\u001b[0m\u001b[0;34m)\u001b[0m \u001b[0;34m->\u001b[0m \u001b[0;32mNone\u001b[0m\u001b[0;34m:\u001b[0m\u001b[0;34m\u001b[0m\u001b[0;34m\u001b[0m\u001b[0m\n",
      "\u001b[0;31mAttributeError\u001b[0m: 'Series' object has no attribute 'make_clickable'"
     ]
    }
   ],
   "source": [
    "data=go.Table(columnwidth = [200,200,500,700],\n",
    "                header=dict(values=final_df.columns, align=['left']),\n",
    "                cells=dict(align=['left'],\n",
    "                           values=[final_df['date'], \n",
    "                                   final_df['time'], \n",
    "                                   final_df['post'].values,\n",
    "                                   final_df['links'].make)\n",
    "             )"
   ]
  },
  {
   "cell_type": "code",
   "execution_count": 136,
   "metadata": {},
   "outputs": [
    {
     "data": {
      "application/vnd.plotly.v1+json": {
       "config": {
        "plotlyServerURL": "https://plot.ly"
       },
       "data": [
        {
         "cells": {
          "align": [
           "left"
          ],
          "values": [
           [
            "2020-01-19",
            "2020-01-19",
            "2020-01-19",
            "2020-01-19",
            "2020-01-19",
            "2020-01-19",
            "2020-01-19",
            "2020-01-19",
            "2020-01-18",
            "2020-01-18",
            "2020-01-18",
            "2020-01-18",
            "2020-01-18",
            "2020-01-18",
            "2020-01-18",
            "2020-01-18",
            "2020-01-18",
            "2020-01-18",
            "2020-01-18",
            "2020-01-18",
            "2020-01-18",
            "2020-01-18",
            "2020-01-18",
            "2020-01-18",
            "2020-01-18"
           ],
           [
            "03:30:19",
            "03:09:24",
            "02:43:55",
            "02:14:57",
            "01:43:45",
            "01:05:06",
            "01:04:00",
            "00:36:03",
            "22:03:57",
            "21:59:29",
            "21:11:23",
            "20:06:52",
            "18:38:51",
            "18:04:06",
            "17:17:06",
            "17:12:32",
            "17:09:40",
            "16:45:37",
            "15:59:58",
            "15:48:49",
            "15:29:05",
            "13:44:02",
            "13:38:18",
            "11:21:50",
            "03:03:41"
           ],
           [
            "What celebrity (alive only) would you like to see make a comeback on their career?",
            "What are your thoughts on the Satanic Church actually fighting for women's right and equality?",
            "Tea lovers: What kind of tea tastes like heaven?",
            "What helped when it felt like nothing would get better? [Serious]Serious Replies Only",
            "What's something that runs in your family?",
            "What is a song you actually like but don’t like admitting it?",
            "If you could give your teenage self any 1 piece of advice, what would it be?",
            "Your username name is your lover, how is your love life?",
            "What's an 'old person' activity that you thoroughly enjoy?",
            "What’s the creepiest thing that’s ever happened to you? (Serious)Serious Replies Only",
            "To those no longer bound by NDAs, what's something you couldn't talk about before?",
            "When did you realize you got old?",
            "What is the most overrated band of all time?",
            "What’s the most dangerous basic belief a person can have?",
            "Men of Reddit, what’s something to get for a guy that’s equivalent to flowers?",
            "What’s the biggest thing for you that tells you just how f**ked up society is?",
            "What's your favorite fast food?",
            "If you had a clone of yourself, what would would use them for?",
            "What was the best purchase you made during the pandemic?",
            "You wake up from a 1000 years coma. It's 3022, and people still speak English. What's your first question ?",
            "[Serious]What was the best thing you ever learned from a therapist?Serious Replies Only",
            "People Who Were 16+ In The 90s: What Did You Think of the Teen Pop Scene At The Time(Britney Spears, NSYC, Backstreet Boys, Spice Girls)?",
            "What show/movie was very hyped up but ended up being fucking awful?",
            "What food will you never get tired of no matter how many times you eat it?",
            "[Serious] Religious people of Reddit: What makes you positive that your religion is the 'correct' religion?Serious Replies Only"
           ],
           [
            "https://old.reddit.com/r/AskReddit/comments/s79uut/serious_religious_people_of_reddit_what_makes_you/",
            "https://old.reddit.com/r/AskReddit/comments/s703iv/what_are_your_thoughts_on_the_satanic_church/",
            "https://old.reddit.com/r/AskReddit/comments/s7fw3p/what_celebrity_alive_only_would_you_like_to_see/",
            "https://old.reddit.com/r/AskReddit/comments/s7hl32/seriouswhat_was_the_best_thing_you_ever_learned/",
            "https://old.reddit.com/r/AskReddit/comments/s70ri2/whats_something_that_runs_in_your_family/",
            "https://old.reddit.com/r/AskReddit/comments/s7esb4/what_is_a_song_you_actually_like_but_dont_like/",
            "https://old.reddit.com/r/AskReddit/comments/s7gdzg/if_you_could_go_through_exactly_the_same_as_they/",
            "https://old.reddit.com/r/AskReddit/comments/s7cpez/your_username_name_is_your_lover_how_is_your_love/",
            "https://old.reddit.com/r/AskReddit/comments/s6vat9/what_food_will_you_never_get_tired_of_no_matter/",
            "https://old.reddit.com/r/AskReddit/comments/s72ck0/whats_your_favorite_fast_food/",
            "https://old.reddit.com/r/AskReddit/comments/s780cj/to_those_no_longer_bound_by_ndas_whats_something/",
            "https://old.reddit.com/r/AskReddit/comments/s71sf0/if_you_had_a_clone_of_yourself_what_would_would/",
            "https://old.reddit.com/r/AskReddit/comments/s74geg/what_is_the_most_overrated_band_of_all_time/",
            "https://old.reddit.com/r/AskReddit/comments/s7gauk/whats_the_most_dangerous_basic_belief_a_person/",
            "https://old.reddit.com/r/AskReddit/comments/s72j1v/men_of_reddit_whats_something_to_get_for_a_guy/",
            "https://old.reddit.com/r/AskReddit/comments/s72f3t/whats_the_biggest_thing_for_you_that_tells_you/",
            "https://old.reddit.com/r/AskReddit/comments/s7dbvc/whats_the_creepiest_thing_thats_ever_happened_to/",
            "https://old.reddit.com/r/AskReddit/comments/s794jr/what_helped_when_it_felt_like_nothing_would_get/",
            "https://old.reddit.com/r/AskReddit/comments/s70j17/you_wake_up_from_a_1000_years_coma_its_3022_and/",
            "https://old.reddit.com/r/AskReddit/comments/s7e4xx/what_was_the_best_purchase_you_made_during_the/",
            "https://old.reddit.com/r/AskReddit/comments/s7fdfw/when_did_you_realize_you_got_old/",
            "https://old.reddit.com/r/AskReddit/comments/s76i35/tea_lovers_what_kind_of_tea_tastes_like_heaven/",
            "https://old.reddit.com/r/AskReddit/comments/s6xqea/what_showmovie_was_very_hyped_up_but_ended_up/",
            "https://old.reddit.com/r/AskReddit/comments/s798jy/whats_an_old_person_activity_that_you_thoroughly/",
            "https://old.reddit.com/r/AskReddit/comments/s7eszm/seriouswhat_the_creepiest_declassified_documents/"
           ]
          ]
         },
         "columnwidth": [
          200,
          200,
          500,
          700
         ],
         "header": {
          "align": [
           "left"
          ],
          "values": [
           "date",
           "time",
           "post",
           "links"
          ]
         },
         "type": "table"
        }
       ],
       "layout": {
        "template": {
         "data": {
          "bar": [
           {
            "error_x": {
             "color": "#2a3f5f"
            },
            "error_y": {
             "color": "#2a3f5f"
            },
            "marker": {
             "line": {
              "color": "#E5ECF6",
              "width": 0.5
             }
            },
            "type": "bar"
           }
          ],
          "barpolar": [
           {
            "marker": {
             "line": {
              "color": "#E5ECF6",
              "width": 0.5
             }
            },
            "type": "barpolar"
           }
          ],
          "carpet": [
           {
            "aaxis": {
             "endlinecolor": "#2a3f5f",
             "gridcolor": "white",
             "linecolor": "white",
             "minorgridcolor": "white",
             "startlinecolor": "#2a3f5f"
            },
            "baxis": {
             "endlinecolor": "#2a3f5f",
             "gridcolor": "white",
             "linecolor": "white",
             "minorgridcolor": "white",
             "startlinecolor": "#2a3f5f"
            },
            "type": "carpet"
           }
          ],
          "choropleth": [
           {
            "colorbar": {
             "outlinewidth": 0,
             "ticks": ""
            },
            "type": "choropleth"
           }
          ],
          "contour": [
           {
            "colorbar": {
             "outlinewidth": 0,
             "ticks": ""
            },
            "colorscale": [
             [
              0,
              "#0d0887"
             ],
             [
              0.1111111111111111,
              "#46039f"
             ],
             [
              0.2222222222222222,
              "#7201a8"
             ],
             [
              0.3333333333333333,
              "#9c179e"
             ],
             [
              0.4444444444444444,
              "#bd3786"
             ],
             [
              0.5555555555555556,
              "#d8576b"
             ],
             [
              0.6666666666666666,
              "#ed7953"
             ],
             [
              0.7777777777777778,
              "#fb9f3a"
             ],
             [
              0.8888888888888888,
              "#fdca26"
             ],
             [
              1,
              "#f0f921"
             ]
            ],
            "type": "contour"
           }
          ],
          "contourcarpet": [
           {
            "colorbar": {
             "outlinewidth": 0,
             "ticks": ""
            },
            "type": "contourcarpet"
           }
          ],
          "heatmap": [
           {
            "colorbar": {
             "outlinewidth": 0,
             "ticks": ""
            },
            "colorscale": [
             [
              0,
              "#0d0887"
             ],
             [
              0.1111111111111111,
              "#46039f"
             ],
             [
              0.2222222222222222,
              "#7201a8"
             ],
             [
              0.3333333333333333,
              "#9c179e"
             ],
             [
              0.4444444444444444,
              "#bd3786"
             ],
             [
              0.5555555555555556,
              "#d8576b"
             ],
             [
              0.6666666666666666,
              "#ed7953"
             ],
             [
              0.7777777777777778,
              "#fb9f3a"
             ],
             [
              0.8888888888888888,
              "#fdca26"
             ],
             [
              1,
              "#f0f921"
             ]
            ],
            "type": "heatmap"
           }
          ],
          "heatmapgl": [
           {
            "colorbar": {
             "outlinewidth": 0,
             "ticks": ""
            },
            "colorscale": [
             [
              0,
              "#0d0887"
             ],
             [
              0.1111111111111111,
              "#46039f"
             ],
             [
              0.2222222222222222,
              "#7201a8"
             ],
             [
              0.3333333333333333,
              "#9c179e"
             ],
             [
              0.4444444444444444,
              "#bd3786"
             ],
             [
              0.5555555555555556,
              "#d8576b"
             ],
             [
              0.6666666666666666,
              "#ed7953"
             ],
             [
              0.7777777777777778,
              "#fb9f3a"
             ],
             [
              0.8888888888888888,
              "#fdca26"
             ],
             [
              1,
              "#f0f921"
             ]
            ],
            "type": "heatmapgl"
           }
          ],
          "histogram": [
           {
            "marker": {
             "colorbar": {
              "outlinewidth": 0,
              "ticks": ""
             }
            },
            "type": "histogram"
           }
          ],
          "histogram2d": [
           {
            "colorbar": {
             "outlinewidth": 0,
             "ticks": ""
            },
            "colorscale": [
             [
              0,
              "#0d0887"
             ],
             [
              0.1111111111111111,
              "#46039f"
             ],
             [
              0.2222222222222222,
              "#7201a8"
             ],
             [
              0.3333333333333333,
              "#9c179e"
             ],
             [
              0.4444444444444444,
              "#bd3786"
             ],
             [
              0.5555555555555556,
              "#d8576b"
             ],
             [
              0.6666666666666666,
              "#ed7953"
             ],
             [
              0.7777777777777778,
              "#fb9f3a"
             ],
             [
              0.8888888888888888,
              "#fdca26"
             ],
             [
              1,
              "#f0f921"
             ]
            ],
            "type": "histogram2d"
           }
          ],
          "histogram2dcontour": [
           {
            "colorbar": {
             "outlinewidth": 0,
             "ticks": ""
            },
            "colorscale": [
             [
              0,
              "#0d0887"
             ],
             [
              0.1111111111111111,
              "#46039f"
             ],
             [
              0.2222222222222222,
              "#7201a8"
             ],
             [
              0.3333333333333333,
              "#9c179e"
             ],
             [
              0.4444444444444444,
              "#bd3786"
             ],
             [
              0.5555555555555556,
              "#d8576b"
             ],
             [
              0.6666666666666666,
              "#ed7953"
             ],
             [
              0.7777777777777778,
              "#fb9f3a"
             ],
             [
              0.8888888888888888,
              "#fdca26"
             ],
             [
              1,
              "#f0f921"
             ]
            ],
            "type": "histogram2dcontour"
           }
          ],
          "mesh3d": [
           {
            "colorbar": {
             "outlinewidth": 0,
             "ticks": ""
            },
            "type": "mesh3d"
           }
          ],
          "parcoords": [
           {
            "line": {
             "colorbar": {
              "outlinewidth": 0,
              "ticks": ""
             }
            },
            "type": "parcoords"
           }
          ],
          "pie": [
           {
            "automargin": true,
            "type": "pie"
           }
          ],
          "scatter": [
           {
            "marker": {
             "colorbar": {
              "outlinewidth": 0,
              "ticks": ""
             }
            },
            "type": "scatter"
           }
          ],
          "scatter3d": [
           {
            "line": {
             "colorbar": {
              "outlinewidth": 0,
              "ticks": ""
             }
            },
            "marker": {
             "colorbar": {
              "outlinewidth": 0,
              "ticks": ""
             }
            },
            "type": "scatter3d"
           }
          ],
          "scattercarpet": [
           {
            "marker": {
             "colorbar": {
              "outlinewidth": 0,
              "ticks": ""
             }
            },
            "type": "scattercarpet"
           }
          ],
          "scattergeo": [
           {
            "marker": {
             "colorbar": {
              "outlinewidth": 0,
              "ticks": ""
             }
            },
            "type": "scattergeo"
           }
          ],
          "scattergl": [
           {
            "marker": {
             "colorbar": {
              "outlinewidth": 0,
              "ticks": ""
             }
            },
            "type": "scattergl"
           }
          ],
          "scattermapbox": [
           {
            "marker": {
             "colorbar": {
              "outlinewidth": 0,
              "ticks": ""
             }
            },
            "type": "scattermapbox"
           }
          ],
          "scatterpolar": [
           {
            "marker": {
             "colorbar": {
              "outlinewidth": 0,
              "ticks": ""
             }
            },
            "type": "scatterpolar"
           }
          ],
          "scatterpolargl": [
           {
            "marker": {
             "colorbar": {
              "outlinewidth": 0,
              "ticks": ""
             }
            },
            "type": "scatterpolargl"
           }
          ],
          "scatterternary": [
           {
            "marker": {
             "colorbar": {
              "outlinewidth": 0,
              "ticks": ""
             }
            },
            "type": "scatterternary"
           }
          ],
          "surface": [
           {
            "colorbar": {
             "outlinewidth": 0,
             "ticks": ""
            },
            "colorscale": [
             [
              0,
              "#0d0887"
             ],
             [
              0.1111111111111111,
              "#46039f"
             ],
             [
              0.2222222222222222,
              "#7201a8"
             ],
             [
              0.3333333333333333,
              "#9c179e"
             ],
             [
              0.4444444444444444,
              "#bd3786"
             ],
             [
              0.5555555555555556,
              "#d8576b"
             ],
             [
              0.6666666666666666,
              "#ed7953"
             ],
             [
              0.7777777777777778,
              "#fb9f3a"
             ],
             [
              0.8888888888888888,
              "#fdca26"
             ],
             [
              1,
              "#f0f921"
             ]
            ],
            "type": "surface"
           }
          ],
          "table": [
           {
            "cells": {
             "fill": {
              "color": "#EBF0F8"
             },
             "line": {
              "color": "white"
             }
            },
            "header": {
             "fill": {
              "color": "#C8D4E3"
             },
             "line": {
              "color": "white"
             }
            },
            "type": "table"
           }
          ]
         },
         "layout": {
          "annotationdefaults": {
           "arrowcolor": "#2a3f5f",
           "arrowhead": 0,
           "arrowwidth": 1
          },
          "autotypenumbers": "strict",
          "coloraxis": {
           "colorbar": {
            "outlinewidth": 0,
            "ticks": ""
           }
          },
          "colorscale": {
           "diverging": [
            [
             0,
             "#8e0152"
            ],
            [
             0.1,
             "#c51b7d"
            ],
            [
             0.2,
             "#de77ae"
            ],
            [
             0.3,
             "#f1b6da"
            ],
            [
             0.4,
             "#fde0ef"
            ],
            [
             0.5,
             "#f7f7f7"
            ],
            [
             0.6,
             "#e6f5d0"
            ],
            [
             0.7,
             "#b8e186"
            ],
            [
             0.8,
             "#7fbc41"
            ],
            [
             0.9,
             "#4d9221"
            ],
            [
             1,
             "#276419"
            ]
           ],
           "sequential": [
            [
             0,
             "#0d0887"
            ],
            [
             0.1111111111111111,
             "#46039f"
            ],
            [
             0.2222222222222222,
             "#7201a8"
            ],
            [
             0.3333333333333333,
             "#9c179e"
            ],
            [
             0.4444444444444444,
             "#bd3786"
            ],
            [
             0.5555555555555556,
             "#d8576b"
            ],
            [
             0.6666666666666666,
             "#ed7953"
            ],
            [
             0.7777777777777778,
             "#fb9f3a"
            ],
            [
             0.8888888888888888,
             "#fdca26"
            ],
            [
             1,
             "#f0f921"
            ]
           ],
           "sequentialminus": [
            [
             0,
             "#0d0887"
            ],
            [
             0.1111111111111111,
             "#46039f"
            ],
            [
             0.2222222222222222,
             "#7201a8"
            ],
            [
             0.3333333333333333,
             "#9c179e"
            ],
            [
             0.4444444444444444,
             "#bd3786"
            ],
            [
             0.5555555555555556,
             "#d8576b"
            ],
            [
             0.6666666666666666,
             "#ed7953"
            ],
            [
             0.7777777777777778,
             "#fb9f3a"
            ],
            [
             0.8888888888888888,
             "#fdca26"
            ],
            [
             1,
             "#f0f921"
            ]
           ]
          },
          "colorway": [
           "#636efa",
           "#EF553B",
           "#00cc96",
           "#ab63fa",
           "#FFA15A",
           "#19d3f3",
           "#FF6692",
           "#B6E880",
           "#FF97FF",
           "#FECB52"
          ],
          "font": {
           "color": "#2a3f5f"
          },
          "geo": {
           "bgcolor": "white",
           "lakecolor": "white",
           "landcolor": "#E5ECF6",
           "showlakes": true,
           "showland": true,
           "subunitcolor": "white"
          },
          "hoverlabel": {
           "align": "left"
          },
          "hovermode": "closest",
          "mapbox": {
           "style": "light"
          },
          "paper_bgcolor": "white",
          "plot_bgcolor": "#E5ECF6",
          "polar": {
           "angularaxis": {
            "gridcolor": "white",
            "linecolor": "white",
            "ticks": ""
           },
           "bgcolor": "#E5ECF6",
           "radialaxis": {
            "gridcolor": "white",
            "linecolor": "white",
            "ticks": ""
           }
          },
          "scene": {
           "xaxis": {
            "backgroundcolor": "#E5ECF6",
            "gridcolor": "white",
            "gridwidth": 2,
            "linecolor": "white",
            "showbackground": true,
            "ticks": "",
            "zerolinecolor": "white"
           },
           "yaxis": {
            "backgroundcolor": "#E5ECF6",
            "gridcolor": "white",
            "gridwidth": 2,
            "linecolor": "white",
            "showbackground": true,
            "ticks": "",
            "zerolinecolor": "white"
           },
           "zaxis": {
            "backgroundcolor": "#E5ECF6",
            "gridcolor": "white",
            "gridwidth": 2,
            "linecolor": "white",
            "showbackground": true,
            "ticks": "",
            "zerolinecolor": "white"
           }
          },
          "shapedefaults": {
           "line": {
            "color": "#2a3f5f"
           }
          },
          "ternary": {
           "aaxis": {
            "gridcolor": "white",
            "linecolor": "white",
            "ticks": ""
           },
           "baxis": {
            "gridcolor": "white",
            "linecolor": "white",
            "ticks": ""
           },
           "bgcolor": "#E5ECF6",
           "caxis": {
            "gridcolor": "white",
            "linecolor": "white",
            "ticks": ""
           }
          },
          "title": {
           "x": 0.05
          },
          "xaxis": {
           "automargin": true,
           "gridcolor": "white",
           "linecolor": "white",
           "ticks": "",
           "title": {
            "standoff": 15
           },
           "zerolinecolor": "white",
           "zerolinewidth": 2
          },
          "yaxis": {
           "automargin": true,
           "gridcolor": "white",
           "linecolor": "white",
           "ticks": "",
           "title": {
            "standoff": 15
           },
           "zerolinecolor": "white",
           "zerolinewidth": 2
          }
         }
        }
       }
      },
      "text/html": [
       "<div>                            <div id=\"160186cf-d6b3-4a33-a6b5-44b879e66cb4\" class=\"plotly-graph-div\" style=\"height:525px; width:100%;\"></div>            <script type=\"text/javascript\">                require([\"plotly\"], function(Plotly) {                    window.PLOTLYENV=window.PLOTLYENV || {};                                    if (document.getElementById(\"160186cf-d6b3-4a33-a6b5-44b879e66cb4\")) {                    Plotly.newPlot(                        \"160186cf-d6b3-4a33-a6b5-44b879e66cb4\",                        [{\"cells\": {\"align\": [\"left\"], \"values\": [[\"2020-01-19\", \"2020-01-19\", \"2020-01-19\", \"2020-01-19\", \"2020-01-19\", \"2020-01-19\", \"2020-01-19\", \"2020-01-19\", \"2020-01-18\", \"2020-01-18\", \"2020-01-18\", \"2020-01-18\", \"2020-01-18\", \"2020-01-18\", \"2020-01-18\", \"2020-01-18\", \"2020-01-18\", \"2020-01-18\", \"2020-01-18\", \"2020-01-18\", \"2020-01-18\", \"2020-01-18\", \"2020-01-18\", \"2020-01-18\", \"2020-01-18\"], [\"03:30:19\", \"03:09:24\", \"02:43:55\", \"02:14:57\", \"01:43:45\", \"01:05:06\", \"01:04:00\", \"00:36:03\", \"22:03:57\", \"21:59:29\", \"21:11:23\", \"20:06:52\", \"18:38:51\", \"18:04:06\", \"17:17:06\", \"17:12:32\", \"17:09:40\", \"16:45:37\", \"15:59:58\", \"15:48:49\", \"15:29:05\", \"13:44:02\", \"13:38:18\", \"11:21:50\", \"03:03:41\"], [\"What celebrity (alive only) would you like to see make a comeback on their career?\", \"What are your thoughts on the Satanic Church actually fighting for women's right and equality?\", \"Tea lovers: What kind of tea tastes like heaven?\", \"What helped when it felt like nothing would get better? [Serious]Serious Replies Only\", \"What's something that runs in your family?\", \"What is a song you actually like but don\\u2019t like admitting it?\", \"If you could give your teenage self any 1 piece of advice, what would it be?\", \"Your username name is your lover, how is your love life?\", \"What's an 'old person' activity that you thoroughly enjoy?\", \"What\\u2019s the creepiest thing that\\u2019s ever happened to you? (Serious)Serious Replies Only\", \"To those no longer bound by NDAs, what's something you couldn't talk about before?\", \"When did you realize you got old?\", \"What is the most overrated band of all time?\", \"What\\u2019s the most dangerous basic belief a person can have?\", \"Men of Reddit, what\\u2019s something to get for a guy that\\u2019s equivalent to flowers?\", \"What\\u2019s the biggest thing for you that tells you just how f**ked up society is?\", \"What's your favorite fast food?\", \"If you had a clone of yourself, what would would use them for?\", \"What was the best purchase you made during the pandemic?\", \"You wake up from a 1000 years coma. It's 3022, and people still speak English. What's your first question ?\", \"[Serious]What was the best thing you ever learned from a therapist?Serious Replies Only\", \"People Who Were 16+ In The 90s: What Did You Think of the Teen Pop Scene At The Time(Britney Spears, NSYC, Backstreet Boys, Spice Girls)?\", \"What show/movie was very hyped up but ended up being fucking awful?\", \"What food will you never get tired of no matter how many times you eat it?\", \"[Serious] Religious people of Reddit: What makes you positive that your religion is the 'correct' religion?Serious Replies Only\"], [\"https://old.reddit.com/r/AskReddit/comments/s79uut/serious_religious_people_of_reddit_what_makes_you/\", \"https://old.reddit.com/r/AskReddit/comments/s703iv/what_are_your_thoughts_on_the_satanic_church/\", \"https://old.reddit.com/r/AskReddit/comments/s7fw3p/what_celebrity_alive_only_would_you_like_to_see/\", \"https://old.reddit.com/r/AskReddit/comments/s7hl32/seriouswhat_was_the_best_thing_you_ever_learned/\", \"https://old.reddit.com/r/AskReddit/comments/s70ri2/whats_something_that_runs_in_your_family/\", \"https://old.reddit.com/r/AskReddit/comments/s7esb4/what_is_a_song_you_actually_like_but_dont_like/\", \"https://old.reddit.com/r/AskReddit/comments/s7gdzg/if_you_could_go_through_exactly_the_same_as_they/\", \"https://old.reddit.com/r/AskReddit/comments/s7cpez/your_username_name_is_your_lover_how_is_your_love/\", \"https://old.reddit.com/r/AskReddit/comments/s6vat9/what_food_will_you_never_get_tired_of_no_matter/\", \"https://old.reddit.com/r/AskReddit/comments/s72ck0/whats_your_favorite_fast_food/\", \"https://old.reddit.com/r/AskReddit/comments/s780cj/to_those_no_longer_bound_by_ndas_whats_something/\", \"https://old.reddit.com/r/AskReddit/comments/s71sf0/if_you_had_a_clone_of_yourself_what_would_would/\", \"https://old.reddit.com/r/AskReddit/comments/s74geg/what_is_the_most_overrated_band_of_all_time/\", \"https://old.reddit.com/r/AskReddit/comments/s7gauk/whats_the_most_dangerous_basic_belief_a_person/\", \"https://old.reddit.com/r/AskReddit/comments/s72j1v/men_of_reddit_whats_something_to_get_for_a_guy/\", \"https://old.reddit.com/r/AskReddit/comments/s72f3t/whats_the_biggest_thing_for_you_that_tells_you/\", \"https://old.reddit.com/r/AskReddit/comments/s7dbvc/whats_the_creepiest_thing_thats_ever_happened_to/\", \"https://old.reddit.com/r/AskReddit/comments/s794jr/what_helped_when_it_felt_like_nothing_would_get/\", \"https://old.reddit.com/r/AskReddit/comments/s70j17/you_wake_up_from_a_1000_years_coma_its_3022_and/\", \"https://old.reddit.com/r/AskReddit/comments/s7e4xx/what_was_the_best_purchase_you_made_during_the/\", \"https://old.reddit.com/r/AskReddit/comments/s7fdfw/when_did_you_realize_you_got_old/\", \"https://old.reddit.com/r/AskReddit/comments/s76i35/tea_lovers_what_kind_of_tea_tastes_like_heaven/\", \"https://old.reddit.com/r/AskReddit/comments/s6xqea/what_showmovie_was_very_hyped_up_but_ended_up/\", \"https://old.reddit.com/r/AskReddit/comments/s798jy/whats_an_old_person_activity_that_you_thoroughly/\", \"https://old.reddit.com/r/AskReddit/comments/s7eszm/seriouswhat_the_creepiest_declassified_documents/\"]]}, \"columnwidth\": [200, 200, 500, 700], \"header\": {\"align\": [\"left\"], \"values\": [\"date\", \"time\", \"post\", \"links\"]}, \"type\": \"table\"}],                        {\"template\": {\"data\": {\"bar\": [{\"error_x\": {\"color\": \"#2a3f5f\"}, \"error_y\": {\"color\": \"#2a3f5f\"}, \"marker\": {\"line\": {\"color\": \"#E5ECF6\", \"width\": 0.5}}, \"type\": \"bar\"}], \"barpolar\": [{\"marker\": {\"line\": {\"color\": \"#E5ECF6\", \"width\": 0.5}}, \"type\": \"barpolar\"}], \"carpet\": [{\"aaxis\": {\"endlinecolor\": \"#2a3f5f\", \"gridcolor\": \"white\", \"linecolor\": \"white\", \"minorgridcolor\": \"white\", \"startlinecolor\": \"#2a3f5f\"}, \"baxis\": {\"endlinecolor\": \"#2a3f5f\", \"gridcolor\": \"white\", \"linecolor\": \"white\", \"minorgridcolor\": \"white\", \"startlinecolor\": \"#2a3f5f\"}, \"type\": \"carpet\"}], \"choropleth\": [{\"colorbar\": {\"outlinewidth\": 0, \"ticks\": \"\"}, \"type\": \"choropleth\"}], \"contour\": [{\"colorbar\": {\"outlinewidth\": 0, \"ticks\": \"\"}, \"colorscale\": [[0.0, \"#0d0887\"], [0.1111111111111111, \"#46039f\"], [0.2222222222222222, \"#7201a8\"], [0.3333333333333333, \"#9c179e\"], [0.4444444444444444, \"#bd3786\"], [0.5555555555555556, \"#d8576b\"], [0.6666666666666666, \"#ed7953\"], [0.7777777777777778, \"#fb9f3a\"], [0.8888888888888888, \"#fdca26\"], [1.0, \"#f0f921\"]], \"type\": \"contour\"}], \"contourcarpet\": [{\"colorbar\": {\"outlinewidth\": 0, \"ticks\": \"\"}, \"type\": \"contourcarpet\"}], \"heatmap\": [{\"colorbar\": {\"outlinewidth\": 0, \"ticks\": \"\"}, \"colorscale\": [[0.0, \"#0d0887\"], [0.1111111111111111, \"#46039f\"], [0.2222222222222222, \"#7201a8\"], [0.3333333333333333, \"#9c179e\"], [0.4444444444444444, \"#bd3786\"], [0.5555555555555556, \"#d8576b\"], [0.6666666666666666, \"#ed7953\"], [0.7777777777777778, \"#fb9f3a\"], [0.8888888888888888, \"#fdca26\"], [1.0, \"#f0f921\"]], \"type\": \"heatmap\"}], \"heatmapgl\": [{\"colorbar\": {\"outlinewidth\": 0, \"ticks\": \"\"}, \"colorscale\": [[0.0, \"#0d0887\"], [0.1111111111111111, \"#46039f\"], [0.2222222222222222, \"#7201a8\"], [0.3333333333333333, \"#9c179e\"], [0.4444444444444444, \"#bd3786\"], [0.5555555555555556, \"#d8576b\"], [0.6666666666666666, \"#ed7953\"], [0.7777777777777778, \"#fb9f3a\"], [0.8888888888888888, \"#fdca26\"], [1.0, \"#f0f921\"]], \"type\": \"heatmapgl\"}], \"histogram\": [{\"marker\": {\"colorbar\": {\"outlinewidth\": 0, \"ticks\": \"\"}}, \"type\": \"histogram\"}], \"histogram2d\": [{\"colorbar\": {\"outlinewidth\": 0, \"ticks\": \"\"}, \"colorscale\": [[0.0, \"#0d0887\"], [0.1111111111111111, \"#46039f\"], [0.2222222222222222, \"#7201a8\"], [0.3333333333333333, \"#9c179e\"], [0.4444444444444444, \"#bd3786\"], [0.5555555555555556, \"#d8576b\"], [0.6666666666666666, \"#ed7953\"], [0.7777777777777778, \"#fb9f3a\"], [0.8888888888888888, \"#fdca26\"], [1.0, \"#f0f921\"]], \"type\": \"histogram2d\"}], \"histogram2dcontour\": [{\"colorbar\": {\"outlinewidth\": 0, \"ticks\": \"\"}, \"colorscale\": [[0.0, \"#0d0887\"], [0.1111111111111111, \"#46039f\"], [0.2222222222222222, \"#7201a8\"], [0.3333333333333333, \"#9c179e\"], [0.4444444444444444, \"#bd3786\"], [0.5555555555555556, \"#d8576b\"], [0.6666666666666666, \"#ed7953\"], [0.7777777777777778, \"#fb9f3a\"], [0.8888888888888888, \"#fdca26\"], [1.0, \"#f0f921\"]], \"type\": \"histogram2dcontour\"}], \"mesh3d\": [{\"colorbar\": {\"outlinewidth\": 0, \"ticks\": \"\"}, \"type\": \"mesh3d\"}], \"parcoords\": [{\"line\": {\"colorbar\": {\"outlinewidth\": 0, \"ticks\": \"\"}}, \"type\": \"parcoords\"}], \"pie\": [{\"automargin\": true, \"type\": \"pie\"}], \"scatter\": [{\"marker\": {\"colorbar\": {\"outlinewidth\": 0, \"ticks\": \"\"}}, \"type\": \"scatter\"}], \"scatter3d\": [{\"line\": {\"colorbar\": {\"outlinewidth\": 0, \"ticks\": \"\"}}, \"marker\": {\"colorbar\": {\"outlinewidth\": 0, \"ticks\": \"\"}}, \"type\": \"scatter3d\"}], \"scattercarpet\": [{\"marker\": {\"colorbar\": {\"outlinewidth\": 0, \"ticks\": \"\"}}, \"type\": \"scattercarpet\"}], \"scattergeo\": [{\"marker\": {\"colorbar\": {\"outlinewidth\": 0, \"ticks\": \"\"}}, \"type\": \"scattergeo\"}], \"scattergl\": [{\"marker\": {\"colorbar\": {\"outlinewidth\": 0, \"ticks\": \"\"}}, \"type\": \"scattergl\"}], \"scattermapbox\": [{\"marker\": {\"colorbar\": {\"outlinewidth\": 0, \"ticks\": \"\"}}, \"type\": \"scattermapbox\"}], \"scatterpolar\": [{\"marker\": {\"colorbar\": {\"outlinewidth\": 0, \"ticks\": \"\"}}, \"type\": \"scatterpolar\"}], \"scatterpolargl\": [{\"marker\": {\"colorbar\": {\"outlinewidth\": 0, \"ticks\": \"\"}}, \"type\": \"scatterpolargl\"}], \"scatterternary\": [{\"marker\": {\"colorbar\": {\"outlinewidth\": 0, \"ticks\": \"\"}}, \"type\": \"scatterternary\"}], \"surface\": [{\"colorbar\": {\"outlinewidth\": 0, \"ticks\": \"\"}, \"colorscale\": [[0.0, \"#0d0887\"], [0.1111111111111111, \"#46039f\"], [0.2222222222222222, \"#7201a8\"], [0.3333333333333333, \"#9c179e\"], [0.4444444444444444, \"#bd3786\"], [0.5555555555555556, \"#d8576b\"], [0.6666666666666666, \"#ed7953\"], [0.7777777777777778, \"#fb9f3a\"], [0.8888888888888888, \"#fdca26\"], [1.0, \"#f0f921\"]], \"type\": \"surface\"}], \"table\": [{\"cells\": {\"fill\": {\"color\": \"#EBF0F8\"}, \"line\": {\"color\": \"white\"}}, \"header\": {\"fill\": {\"color\": \"#C8D4E3\"}, \"line\": {\"color\": \"white\"}}, \"type\": \"table\"}]}, \"layout\": {\"annotationdefaults\": {\"arrowcolor\": \"#2a3f5f\", \"arrowhead\": 0, \"arrowwidth\": 1}, \"autotypenumbers\": \"strict\", \"coloraxis\": {\"colorbar\": {\"outlinewidth\": 0, \"ticks\": \"\"}}, \"colorscale\": {\"diverging\": [[0, \"#8e0152\"], [0.1, \"#c51b7d\"], [0.2, \"#de77ae\"], [0.3, \"#f1b6da\"], [0.4, \"#fde0ef\"], [0.5, \"#f7f7f7\"], [0.6, \"#e6f5d0\"], [0.7, \"#b8e186\"], [0.8, \"#7fbc41\"], [0.9, \"#4d9221\"], [1, \"#276419\"]], \"sequential\": [[0.0, \"#0d0887\"], [0.1111111111111111, \"#46039f\"], [0.2222222222222222, \"#7201a8\"], [0.3333333333333333, \"#9c179e\"], [0.4444444444444444, \"#bd3786\"], [0.5555555555555556, \"#d8576b\"], [0.6666666666666666, \"#ed7953\"], [0.7777777777777778, \"#fb9f3a\"], [0.8888888888888888, \"#fdca26\"], [1.0, \"#f0f921\"]], \"sequentialminus\": [[0.0, \"#0d0887\"], [0.1111111111111111, \"#46039f\"], [0.2222222222222222, \"#7201a8\"], [0.3333333333333333, \"#9c179e\"], [0.4444444444444444, \"#bd3786\"], [0.5555555555555556, \"#d8576b\"], [0.6666666666666666, \"#ed7953\"], [0.7777777777777778, \"#fb9f3a\"], [0.8888888888888888, \"#fdca26\"], [1.0, \"#f0f921\"]]}, \"colorway\": [\"#636efa\", \"#EF553B\", \"#00cc96\", \"#ab63fa\", \"#FFA15A\", \"#19d3f3\", \"#FF6692\", \"#B6E880\", \"#FF97FF\", \"#FECB52\"], \"font\": {\"color\": \"#2a3f5f\"}, \"geo\": {\"bgcolor\": \"white\", \"lakecolor\": \"white\", \"landcolor\": \"#E5ECF6\", \"showlakes\": true, \"showland\": true, \"subunitcolor\": \"white\"}, \"hoverlabel\": {\"align\": \"left\"}, \"hovermode\": \"closest\", \"mapbox\": {\"style\": \"light\"}, \"paper_bgcolor\": \"white\", \"plot_bgcolor\": \"#E5ECF6\", \"polar\": {\"angularaxis\": {\"gridcolor\": \"white\", \"linecolor\": \"white\", \"ticks\": \"\"}, \"bgcolor\": \"#E5ECF6\", \"radialaxis\": {\"gridcolor\": \"white\", \"linecolor\": \"white\", \"ticks\": \"\"}}, \"scene\": {\"xaxis\": {\"backgroundcolor\": \"#E5ECF6\", \"gridcolor\": \"white\", \"gridwidth\": 2, \"linecolor\": \"white\", \"showbackground\": true, \"ticks\": \"\", \"zerolinecolor\": \"white\"}, \"yaxis\": {\"backgroundcolor\": \"#E5ECF6\", \"gridcolor\": \"white\", \"gridwidth\": 2, \"linecolor\": \"white\", \"showbackground\": true, \"ticks\": \"\", \"zerolinecolor\": \"white\"}, \"zaxis\": {\"backgroundcolor\": \"#E5ECF6\", \"gridcolor\": \"white\", \"gridwidth\": 2, \"linecolor\": \"white\", \"showbackground\": true, \"ticks\": \"\", \"zerolinecolor\": \"white\"}}, \"shapedefaults\": {\"line\": {\"color\": \"#2a3f5f\"}}, \"ternary\": {\"aaxis\": {\"gridcolor\": \"white\", \"linecolor\": \"white\", \"ticks\": \"\"}, \"baxis\": {\"gridcolor\": \"white\", \"linecolor\": \"white\", \"ticks\": \"\"}, \"bgcolor\": \"#E5ECF6\", \"caxis\": {\"gridcolor\": \"white\", \"linecolor\": \"white\", \"ticks\": \"\"}}, \"title\": {\"x\": 0.05}, \"xaxis\": {\"automargin\": true, \"gridcolor\": \"white\", \"linecolor\": \"white\", \"ticks\": \"\", \"title\": {\"standoff\": 15}, \"zerolinecolor\": \"white\", \"zerolinewidth\": 2}, \"yaxis\": {\"automargin\": true, \"gridcolor\": \"white\", \"linecolor\": \"white\", \"ticks\": \"\", \"title\": {\"standoff\": 15}, \"zerolinecolor\": \"white\", \"zerolinewidth\": 2}}}},                        {\"responsive\": true}                    ).then(function(){\n",
       "                            \n",
       "var gd = document.getElementById('160186cf-d6b3-4a33-a6b5-44b879e66cb4');\n",
       "var x = new MutationObserver(function (mutations, observer) {{\n",
       "        var display = window.getComputedStyle(gd).display;\n",
       "        if (!display || display === 'none') {{\n",
       "            console.log([gd, 'removed!']);\n",
       "            Plotly.purge(gd);\n",
       "            observer.disconnect();\n",
       "        }}\n",
       "}});\n",
       "\n",
       "// Listen for the removal of the full notebook cells\n",
       "var notebookContainer = gd.closest('#notebook-container');\n",
       "if (notebookContainer) {{\n",
       "    x.observe(notebookContainer, {childList: true});\n",
       "}}\n",
       "\n",
       "// Listen for the clearing of the current output cell\n",
       "var outputEl = gd.closest('.output');\n",
       "if (outputEl) {{\n",
       "    x.observe(outputEl, {childList: true});\n",
       "}}\n",
       "\n",
       "                        })                };                });            </script>        </div>"
      ]
     },
     "metadata": {},
     "output_type": "display_data"
    }
   ],
   "source": [
    "fig = go.Figure([data])\n",
    "fig"
   ]
  },
  {
   "cell_type": "code",
   "execution_count": 137,
   "metadata": {},
   "outputs": [],
   "source": [
    "# save as html\n",
    "fig.write_html('table.html')"
   ]
  },
  {
   "cell_type": "code",
   "execution_count": null,
   "metadata": {},
   "outputs": [],
   "source": []
  }
 ],
 "metadata": {
  "kernelspec": {
   "display_name": "Python 3 (ipykernel)",
   "language": "python",
   "name": "python3"
  },
  "language_info": {
   "codemirror_mode": {
    "name": "ipython",
    "version": 3
   },
   "file_extension": ".py",
   "mimetype": "text/x-python",
   "name": "python",
   "nbconvert_exporter": "python",
   "pygments_lexer": "ipython3",
   "version": "3.9.7"
  }
 },
 "nbformat": 4,
 "nbformat_minor": 2
}
